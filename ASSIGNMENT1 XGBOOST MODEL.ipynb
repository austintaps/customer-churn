{
  "nbformat": 4,
  "nbformat_minor": 0,
  "metadata": {
    "colab": {
      "name": "boostmodel.ipynb",
      "provenance": [],
      "collapsed_sections": [],
      "authorship_tag": "ABX9TyP3jNfTZ+MO8D1FRJSzDyJD",
      "include_colab_link": true
    },
    "kernelspec": {
      "name": "python3",
      "display_name": "Python 3"
    },
    "language_info": {
      "name": "python"
    }
  },
  "cells": [
    {
      "cell_type": "markdown",
      "metadata": {
        "id": "view-in-github",
        "colab_type": "text"
      },
      "source": [
        "<a href=\"https://colab.research.google.com/github/austintaps/customer-churn/blob/main/ASSIGNMENT1%20XGBOOST%20MODEL.ipynb\" target=\"_parent\"><img src=\"https://colab.research.google.com/assets/colab-badge.svg\" alt=\"Open In Colab\"/></a>"
      ]
    },
    {
      "cell_type": "code",
      "metadata": {
        "id": "fHkXnxiA-YEK"
      },
      "source": [
        "from google.colab import drive\n",
        "#drive.mount(\"/content/drive\")\n",
        "#drive.mount(\"/content/drive\", force_remount=true)"
      ],
      "execution_count": 57,
      "outputs": []
    },
    {
      "cell_type": "code",
      "metadata": {
        "colab": {
          "base_uri": "https://localhost:8080/"
        },
        "id": "KnJ0YJ0F-wQG",
        "outputId": "55ae94cb-c5ee-4db1-80a4-1009ae17b853"
      },
      "source": [
        "drive.mount(\"/content/drive\")"
      ],
      "execution_count": 58,
      "outputs": [
        {
          "output_type": "stream",
          "text": [
            "Drive already mounted at /content/drive; to attempt to forcibly remount, call drive.mount(\"/content/drive\", force_remount=True).\n"
          ],
          "name": "stdout"
        }
      ]
    },
    {
      "cell_type": "code",
      "metadata": {
        "id": "Hn55Q9-C-4eY"
      },
      "source": [
        "import pandas as pd\n",
        "import numpy as np\n",
        "import missingno as ms\n",
        "from sklearn.preprocessing import StandardScaler\n",
        "from sklearn.model_selection import train_test_split\n",
        "from sklearn.metrics import balanced_accuracy_score,roc_auc_score,make_scorer\n",
        "from sklearn.model_selection import GridSearchCV\n",
        "from sklearn.metrics import plot_confusion_matrix\n",
        "import xgboost as xgb\n",
        "from sklearn.metrics import confusion_matrix\n",
        "from matplotlib import pyplot as plt\n",
        "%matplotlib inline\n",
        "import param,numbergen\n",
        "import seaborn as sns\n",
        "from sklearn import model_selection, metrics  #to include metrics for evaluation # this used to be cross_validation"
      ],
      "execution_count": 106,
      "outputs": []
    },
    {
      "cell_type": "code",
      "metadata": {
        "id": "bTX5LrllBSMO",
        "colab": {
          "base_uri": "https://localhost:8080/",
          "height": 300
        },
        "outputId": "d63f58f3-e2fb-49c1-cdac-e78ddfa2971f"
      },
      "source": [
        "data=pd.read_csv('/content/drive/My Drive/Colab Notebooks/datasets_13996_18858_WA_Fn-UseC_-Telco-Customer-Churn (3).csv')\n",
        "data.head()"
      ],
      "execution_count": 60,
      "outputs": [
        {
          "output_type": "execute_result",
          "data": {
            "text/html": [
              "<div>\n",
              "<style scoped>\n",
              "    .dataframe tbody tr th:only-of-type {\n",
              "        vertical-align: middle;\n",
              "    }\n",
              "\n",
              "    .dataframe tbody tr th {\n",
              "        vertical-align: top;\n",
              "    }\n",
              "\n",
              "    .dataframe thead th {\n",
              "        text-align: right;\n",
              "    }\n",
              "</style>\n",
              "<table border=\"1\" class=\"dataframe\">\n",
              "  <thead>\n",
              "    <tr style=\"text-align: right;\">\n",
              "      <th></th>\n",
              "      <th>customerID</th>\n",
              "      <th>gender</th>\n",
              "      <th>SeniorCitizen</th>\n",
              "      <th>Partner</th>\n",
              "      <th>Dependents</th>\n",
              "      <th>tenure</th>\n",
              "      <th>PhoneService</th>\n",
              "      <th>MultipleLines</th>\n",
              "      <th>InternetService</th>\n",
              "      <th>OnlineSecurity</th>\n",
              "      <th>OnlineBackup</th>\n",
              "      <th>DeviceProtection</th>\n",
              "      <th>TechSupport</th>\n",
              "      <th>StreamingTV</th>\n",
              "      <th>StreamingMovies</th>\n",
              "      <th>Contract</th>\n",
              "      <th>PaperlessBilling</th>\n",
              "      <th>PaymentMethod</th>\n",
              "      <th>MonthlyCharges</th>\n",
              "      <th>TotalCharges</th>\n",
              "      <th>Churn</th>\n",
              "    </tr>\n",
              "  </thead>\n",
              "  <tbody>\n",
              "    <tr>\n",
              "      <th>0</th>\n",
              "      <td>7590-VHVEG</td>\n",
              "      <td>Female</td>\n",
              "      <td>0</td>\n",
              "      <td>Yes</td>\n",
              "      <td>No</td>\n",
              "      <td>1</td>\n",
              "      <td>No</td>\n",
              "      <td>No phone service</td>\n",
              "      <td>DSL</td>\n",
              "      <td>No</td>\n",
              "      <td>Yes</td>\n",
              "      <td>No</td>\n",
              "      <td>No</td>\n",
              "      <td>No</td>\n",
              "      <td>No</td>\n",
              "      <td>Month-to-month</td>\n",
              "      <td>Yes</td>\n",
              "      <td>Electronic check</td>\n",
              "      <td>29.85</td>\n",
              "      <td>29.85</td>\n",
              "      <td>No</td>\n",
              "    </tr>\n",
              "    <tr>\n",
              "      <th>1</th>\n",
              "      <td>5575-GNVDE</td>\n",
              "      <td>Male</td>\n",
              "      <td>0</td>\n",
              "      <td>No</td>\n",
              "      <td>No</td>\n",
              "      <td>34</td>\n",
              "      <td>Yes</td>\n",
              "      <td>No</td>\n",
              "      <td>DSL</td>\n",
              "      <td>Yes</td>\n",
              "      <td>No</td>\n",
              "      <td>Yes</td>\n",
              "      <td>No</td>\n",
              "      <td>No</td>\n",
              "      <td>No</td>\n",
              "      <td>One year</td>\n",
              "      <td>No</td>\n",
              "      <td>Mailed check</td>\n",
              "      <td>56.95</td>\n",
              "      <td>1889.5</td>\n",
              "      <td>No</td>\n",
              "    </tr>\n",
              "    <tr>\n",
              "      <th>2</th>\n",
              "      <td>3668-QPYBK</td>\n",
              "      <td>Male</td>\n",
              "      <td>0</td>\n",
              "      <td>No</td>\n",
              "      <td>No</td>\n",
              "      <td>2</td>\n",
              "      <td>Yes</td>\n",
              "      <td>No</td>\n",
              "      <td>DSL</td>\n",
              "      <td>Yes</td>\n",
              "      <td>Yes</td>\n",
              "      <td>No</td>\n",
              "      <td>No</td>\n",
              "      <td>No</td>\n",
              "      <td>No</td>\n",
              "      <td>Month-to-month</td>\n",
              "      <td>Yes</td>\n",
              "      <td>Mailed check</td>\n",
              "      <td>53.85</td>\n",
              "      <td>108.15</td>\n",
              "      <td>Yes</td>\n",
              "    </tr>\n",
              "    <tr>\n",
              "      <th>3</th>\n",
              "      <td>7795-CFOCW</td>\n",
              "      <td>Male</td>\n",
              "      <td>0</td>\n",
              "      <td>No</td>\n",
              "      <td>No</td>\n",
              "      <td>45</td>\n",
              "      <td>No</td>\n",
              "      <td>No phone service</td>\n",
              "      <td>DSL</td>\n",
              "      <td>Yes</td>\n",
              "      <td>No</td>\n",
              "      <td>Yes</td>\n",
              "      <td>Yes</td>\n",
              "      <td>No</td>\n",
              "      <td>No</td>\n",
              "      <td>One year</td>\n",
              "      <td>No</td>\n",
              "      <td>Bank transfer (automatic)</td>\n",
              "      <td>42.30</td>\n",
              "      <td>1840.75</td>\n",
              "      <td>No</td>\n",
              "    </tr>\n",
              "    <tr>\n",
              "      <th>4</th>\n",
              "      <td>9237-HQITU</td>\n",
              "      <td>Female</td>\n",
              "      <td>0</td>\n",
              "      <td>No</td>\n",
              "      <td>No</td>\n",
              "      <td>2</td>\n",
              "      <td>Yes</td>\n",
              "      <td>No</td>\n",
              "      <td>Fiber optic</td>\n",
              "      <td>No</td>\n",
              "      <td>No</td>\n",
              "      <td>No</td>\n",
              "      <td>No</td>\n",
              "      <td>No</td>\n",
              "      <td>No</td>\n",
              "      <td>Month-to-month</td>\n",
              "      <td>Yes</td>\n",
              "      <td>Electronic check</td>\n",
              "      <td>70.70</td>\n",
              "      <td>151.65</td>\n",
              "      <td>Yes</td>\n",
              "    </tr>\n",
              "  </tbody>\n",
              "</table>\n",
              "</div>"
            ],
            "text/plain": [
              "   customerID  gender  SeniorCitizen  ... MonthlyCharges TotalCharges  Churn\n",
              "0  7590-VHVEG  Female              0  ...          29.85        29.85     No\n",
              "1  5575-GNVDE    Male              0  ...          56.95       1889.5     No\n",
              "2  3668-QPYBK    Male              0  ...          53.85       108.15    Yes\n",
              "3  7795-CFOCW    Male              0  ...          42.30      1840.75     No\n",
              "4  9237-HQITU  Female              0  ...          70.70       151.65    Yes\n",
              "\n",
              "[5 rows x 21 columns]"
            ]
          },
          "metadata": {
            "tags": []
          },
          "execution_count": 60
        }
      ]
    },
    {
      "cell_type": "markdown",
      "metadata": {
        "id": "WnFG5FuuHGWt"
      },
      "source": [
        "PREPAIRING DATA FOR THE XGBOOST"
      ]
    },
    {
      "cell_type": "code",
      "metadata": {
        "colab": {
          "base_uri": "https://localhost:8080/"
        },
        "id": "LR4HYjT7jgMl",
        "outputId": "867d01fb-b6a2-4c0f-e15c-0860db3be562"
      },
      "source": [
        "# See if the data is usable.\n",
        "data.info()"
      ],
      "execution_count": 61,
      "outputs": [
        {
          "output_type": "stream",
          "text": [
            "<class 'pandas.core.frame.DataFrame'>\n",
            "RangeIndex: 7043 entries, 0 to 7042\n",
            "Data columns (total 21 columns):\n",
            " #   Column            Non-Null Count  Dtype  \n",
            "---  ------            --------------  -----  \n",
            " 0   customerID        7043 non-null   object \n",
            " 1   gender            7043 non-null   object \n",
            " 2   SeniorCitizen     7043 non-null   int64  \n",
            " 3   Partner           7043 non-null   object \n",
            " 4   Dependents        7043 non-null   object \n",
            " 5   tenure            7043 non-null   int64  \n",
            " 6   PhoneService      7043 non-null   object \n",
            " 7   MultipleLines     7043 non-null   object \n",
            " 8   InternetService   7043 non-null   object \n",
            " 9   OnlineSecurity    7043 non-null   object \n",
            " 10  OnlineBackup      7043 non-null   object \n",
            " 11  DeviceProtection  7043 non-null   object \n",
            " 12  TechSupport       7043 non-null   object \n",
            " 13  StreamingTV       7043 non-null   object \n",
            " 14  StreamingMovies   7043 non-null   object \n",
            " 15  Contract          7043 non-null   object \n",
            " 16  PaperlessBilling  7043 non-null   object \n",
            " 17  PaymentMethod     7043 non-null   object \n",
            " 18  MonthlyCharges    7043 non-null   float64\n",
            " 19  TotalCharges      7043 non-null   object \n",
            " 20  Churn             7043 non-null   object \n",
            "dtypes: float64(1), int64(2), object(18)\n",
            "memory usage: 1.1+ MB\n"
          ],
          "name": "stdout"
        }
      ]
    },
    {
      "cell_type": "code",
      "metadata": {
        "colab": {
          "base_uri": "https://localhost:8080/",
          "height": 579
        },
        "id": "NNj64pXGjkbC",
        "outputId": "de67a93f-cc6e-4c00-95e1-92679d71e4f2"
      },
      "source": [
        "# Analyze if there is non-numeric data in the 'TotalCharges' column since it's showing as an object instead of float64.\n",
        "data['TotalCharges'] = pd.to_numeric(data['TotalCharges'], errors = 'coerce')\n",
        "data.loc[data['TotalCharges'].isna()==True]"
      ],
      "execution_count": 62,
      "outputs": [
        {
          "output_type": "execute_result",
          "data": {
            "text/html": [
              "<div>\n",
              "<style scoped>\n",
              "    .dataframe tbody tr th:only-of-type {\n",
              "        vertical-align: middle;\n",
              "    }\n",
              "\n",
              "    .dataframe tbody tr th {\n",
              "        vertical-align: top;\n",
              "    }\n",
              "\n",
              "    .dataframe thead th {\n",
              "        text-align: right;\n",
              "    }\n",
              "</style>\n",
              "<table border=\"1\" class=\"dataframe\">\n",
              "  <thead>\n",
              "    <tr style=\"text-align: right;\">\n",
              "      <th></th>\n",
              "      <th>customerID</th>\n",
              "      <th>gender</th>\n",
              "      <th>SeniorCitizen</th>\n",
              "      <th>Partner</th>\n",
              "      <th>Dependents</th>\n",
              "      <th>tenure</th>\n",
              "      <th>PhoneService</th>\n",
              "      <th>MultipleLines</th>\n",
              "      <th>InternetService</th>\n",
              "      <th>OnlineSecurity</th>\n",
              "      <th>OnlineBackup</th>\n",
              "      <th>DeviceProtection</th>\n",
              "      <th>TechSupport</th>\n",
              "      <th>StreamingTV</th>\n",
              "      <th>StreamingMovies</th>\n",
              "      <th>Contract</th>\n",
              "      <th>PaperlessBilling</th>\n",
              "      <th>PaymentMethod</th>\n",
              "      <th>MonthlyCharges</th>\n",
              "      <th>TotalCharges</th>\n",
              "      <th>Churn</th>\n",
              "    </tr>\n",
              "  </thead>\n",
              "  <tbody>\n",
              "    <tr>\n",
              "      <th>488</th>\n",
              "      <td>4472-LVYGI</td>\n",
              "      <td>Female</td>\n",
              "      <td>0</td>\n",
              "      <td>Yes</td>\n",
              "      <td>Yes</td>\n",
              "      <td>0</td>\n",
              "      <td>No</td>\n",
              "      <td>No phone service</td>\n",
              "      <td>DSL</td>\n",
              "      <td>Yes</td>\n",
              "      <td>No</td>\n",
              "      <td>Yes</td>\n",
              "      <td>Yes</td>\n",
              "      <td>Yes</td>\n",
              "      <td>No</td>\n",
              "      <td>Two year</td>\n",
              "      <td>Yes</td>\n",
              "      <td>Bank transfer (automatic)</td>\n",
              "      <td>52.55</td>\n",
              "      <td>NaN</td>\n",
              "      <td>No</td>\n",
              "    </tr>\n",
              "    <tr>\n",
              "      <th>753</th>\n",
              "      <td>3115-CZMZD</td>\n",
              "      <td>Male</td>\n",
              "      <td>0</td>\n",
              "      <td>No</td>\n",
              "      <td>Yes</td>\n",
              "      <td>0</td>\n",
              "      <td>Yes</td>\n",
              "      <td>No</td>\n",
              "      <td>No</td>\n",
              "      <td>No internet service</td>\n",
              "      <td>No internet service</td>\n",
              "      <td>No internet service</td>\n",
              "      <td>No internet service</td>\n",
              "      <td>No internet service</td>\n",
              "      <td>No internet service</td>\n",
              "      <td>Two year</td>\n",
              "      <td>No</td>\n",
              "      <td>Mailed check</td>\n",
              "      <td>20.25</td>\n",
              "      <td>NaN</td>\n",
              "      <td>No</td>\n",
              "    </tr>\n",
              "    <tr>\n",
              "      <th>936</th>\n",
              "      <td>5709-LVOEQ</td>\n",
              "      <td>Female</td>\n",
              "      <td>0</td>\n",
              "      <td>Yes</td>\n",
              "      <td>Yes</td>\n",
              "      <td>0</td>\n",
              "      <td>Yes</td>\n",
              "      <td>No</td>\n",
              "      <td>DSL</td>\n",
              "      <td>Yes</td>\n",
              "      <td>Yes</td>\n",
              "      <td>Yes</td>\n",
              "      <td>No</td>\n",
              "      <td>Yes</td>\n",
              "      <td>Yes</td>\n",
              "      <td>Two year</td>\n",
              "      <td>No</td>\n",
              "      <td>Mailed check</td>\n",
              "      <td>80.85</td>\n",
              "      <td>NaN</td>\n",
              "      <td>No</td>\n",
              "    </tr>\n",
              "    <tr>\n",
              "      <th>1082</th>\n",
              "      <td>4367-NUYAO</td>\n",
              "      <td>Male</td>\n",
              "      <td>0</td>\n",
              "      <td>Yes</td>\n",
              "      <td>Yes</td>\n",
              "      <td>0</td>\n",
              "      <td>Yes</td>\n",
              "      <td>Yes</td>\n",
              "      <td>No</td>\n",
              "      <td>No internet service</td>\n",
              "      <td>No internet service</td>\n",
              "      <td>No internet service</td>\n",
              "      <td>No internet service</td>\n",
              "      <td>No internet service</td>\n",
              "      <td>No internet service</td>\n",
              "      <td>Two year</td>\n",
              "      <td>No</td>\n",
              "      <td>Mailed check</td>\n",
              "      <td>25.75</td>\n",
              "      <td>NaN</td>\n",
              "      <td>No</td>\n",
              "    </tr>\n",
              "    <tr>\n",
              "      <th>1340</th>\n",
              "      <td>1371-DWPAZ</td>\n",
              "      <td>Female</td>\n",
              "      <td>0</td>\n",
              "      <td>Yes</td>\n",
              "      <td>Yes</td>\n",
              "      <td>0</td>\n",
              "      <td>No</td>\n",
              "      <td>No phone service</td>\n",
              "      <td>DSL</td>\n",
              "      <td>Yes</td>\n",
              "      <td>Yes</td>\n",
              "      <td>Yes</td>\n",
              "      <td>Yes</td>\n",
              "      <td>Yes</td>\n",
              "      <td>No</td>\n",
              "      <td>Two year</td>\n",
              "      <td>No</td>\n",
              "      <td>Credit card (automatic)</td>\n",
              "      <td>56.05</td>\n",
              "      <td>NaN</td>\n",
              "      <td>No</td>\n",
              "    </tr>\n",
              "    <tr>\n",
              "      <th>3331</th>\n",
              "      <td>7644-OMVMY</td>\n",
              "      <td>Male</td>\n",
              "      <td>0</td>\n",
              "      <td>Yes</td>\n",
              "      <td>Yes</td>\n",
              "      <td>0</td>\n",
              "      <td>Yes</td>\n",
              "      <td>No</td>\n",
              "      <td>No</td>\n",
              "      <td>No internet service</td>\n",
              "      <td>No internet service</td>\n",
              "      <td>No internet service</td>\n",
              "      <td>No internet service</td>\n",
              "      <td>No internet service</td>\n",
              "      <td>No internet service</td>\n",
              "      <td>Two year</td>\n",
              "      <td>No</td>\n",
              "      <td>Mailed check</td>\n",
              "      <td>19.85</td>\n",
              "      <td>NaN</td>\n",
              "      <td>No</td>\n",
              "    </tr>\n",
              "    <tr>\n",
              "      <th>3826</th>\n",
              "      <td>3213-VVOLG</td>\n",
              "      <td>Male</td>\n",
              "      <td>0</td>\n",
              "      <td>Yes</td>\n",
              "      <td>Yes</td>\n",
              "      <td>0</td>\n",
              "      <td>Yes</td>\n",
              "      <td>Yes</td>\n",
              "      <td>No</td>\n",
              "      <td>No internet service</td>\n",
              "      <td>No internet service</td>\n",
              "      <td>No internet service</td>\n",
              "      <td>No internet service</td>\n",
              "      <td>No internet service</td>\n",
              "      <td>No internet service</td>\n",
              "      <td>Two year</td>\n",
              "      <td>No</td>\n",
              "      <td>Mailed check</td>\n",
              "      <td>25.35</td>\n",
              "      <td>NaN</td>\n",
              "      <td>No</td>\n",
              "    </tr>\n",
              "    <tr>\n",
              "      <th>4380</th>\n",
              "      <td>2520-SGTTA</td>\n",
              "      <td>Female</td>\n",
              "      <td>0</td>\n",
              "      <td>Yes</td>\n",
              "      <td>Yes</td>\n",
              "      <td>0</td>\n",
              "      <td>Yes</td>\n",
              "      <td>No</td>\n",
              "      <td>No</td>\n",
              "      <td>No internet service</td>\n",
              "      <td>No internet service</td>\n",
              "      <td>No internet service</td>\n",
              "      <td>No internet service</td>\n",
              "      <td>No internet service</td>\n",
              "      <td>No internet service</td>\n",
              "      <td>Two year</td>\n",
              "      <td>No</td>\n",
              "      <td>Mailed check</td>\n",
              "      <td>20.00</td>\n",
              "      <td>NaN</td>\n",
              "      <td>No</td>\n",
              "    </tr>\n",
              "    <tr>\n",
              "      <th>5218</th>\n",
              "      <td>2923-ARZLG</td>\n",
              "      <td>Male</td>\n",
              "      <td>0</td>\n",
              "      <td>Yes</td>\n",
              "      <td>Yes</td>\n",
              "      <td>0</td>\n",
              "      <td>Yes</td>\n",
              "      <td>No</td>\n",
              "      <td>No</td>\n",
              "      <td>No internet service</td>\n",
              "      <td>No internet service</td>\n",
              "      <td>No internet service</td>\n",
              "      <td>No internet service</td>\n",
              "      <td>No internet service</td>\n",
              "      <td>No internet service</td>\n",
              "      <td>One year</td>\n",
              "      <td>Yes</td>\n",
              "      <td>Mailed check</td>\n",
              "      <td>19.70</td>\n",
              "      <td>NaN</td>\n",
              "      <td>No</td>\n",
              "    </tr>\n",
              "    <tr>\n",
              "      <th>6670</th>\n",
              "      <td>4075-WKNIU</td>\n",
              "      <td>Female</td>\n",
              "      <td>0</td>\n",
              "      <td>Yes</td>\n",
              "      <td>Yes</td>\n",
              "      <td>0</td>\n",
              "      <td>Yes</td>\n",
              "      <td>Yes</td>\n",
              "      <td>DSL</td>\n",
              "      <td>No</td>\n",
              "      <td>Yes</td>\n",
              "      <td>Yes</td>\n",
              "      <td>Yes</td>\n",
              "      <td>Yes</td>\n",
              "      <td>No</td>\n",
              "      <td>Two year</td>\n",
              "      <td>No</td>\n",
              "      <td>Mailed check</td>\n",
              "      <td>73.35</td>\n",
              "      <td>NaN</td>\n",
              "      <td>No</td>\n",
              "    </tr>\n",
              "    <tr>\n",
              "      <th>6754</th>\n",
              "      <td>2775-SEFEE</td>\n",
              "      <td>Male</td>\n",
              "      <td>0</td>\n",
              "      <td>No</td>\n",
              "      <td>Yes</td>\n",
              "      <td>0</td>\n",
              "      <td>Yes</td>\n",
              "      <td>Yes</td>\n",
              "      <td>DSL</td>\n",
              "      <td>Yes</td>\n",
              "      <td>Yes</td>\n",
              "      <td>No</td>\n",
              "      <td>Yes</td>\n",
              "      <td>No</td>\n",
              "      <td>No</td>\n",
              "      <td>Two year</td>\n",
              "      <td>Yes</td>\n",
              "      <td>Bank transfer (automatic)</td>\n",
              "      <td>61.90</td>\n",
              "      <td>NaN</td>\n",
              "      <td>No</td>\n",
              "    </tr>\n",
              "  </tbody>\n",
              "</table>\n",
              "</div>"
            ],
            "text/plain": [
              "      customerID  gender  SeniorCitizen  ... MonthlyCharges TotalCharges  Churn\n",
              "488   4472-LVYGI  Female              0  ...          52.55          NaN     No\n",
              "753   3115-CZMZD    Male              0  ...          20.25          NaN     No\n",
              "936   5709-LVOEQ  Female              0  ...          80.85          NaN     No\n",
              "1082  4367-NUYAO    Male              0  ...          25.75          NaN     No\n",
              "1340  1371-DWPAZ  Female              0  ...          56.05          NaN     No\n",
              "3331  7644-OMVMY    Male              0  ...          19.85          NaN     No\n",
              "3826  3213-VVOLG    Male              0  ...          25.35          NaN     No\n",
              "4380  2520-SGTTA  Female              0  ...          20.00          NaN     No\n",
              "5218  2923-ARZLG    Male              0  ...          19.70          NaN     No\n",
              "6670  4075-WKNIU  Female              0  ...          73.35          NaN     No\n",
              "6754  2775-SEFEE    Male              0  ...          61.90          NaN     No\n",
              "\n",
              "[11 rows x 21 columns]"
            ]
          },
          "metadata": {
            "tags": []
          },
          "execution_count": 62
        }
      ]
    },
    {
      "cell_type": "code",
      "metadata": {
        "colab": {
          "base_uri": "https://localhost:8080/"
        },
        "id": "3pcSvcOjjqoo",
        "outputId": "abf2a96c-2d68-4e72-e038-edb8de25e8a0"
      },
      "source": [
        "# Above we see that the blank \"TotalCharges\" happen when customers have 0 months tenure so we will change those values to $0.\n",
        "data[data['TotalCharges'].isna()==True] = 0\n",
        "data['OnlineBackup'].unique()"
      ],
      "execution_count": 63,
      "outputs": [
        {
          "output_type": "execute_result",
          "data": {
            "text/plain": [
              "array(['Yes', 'No', 'No internet service', 0], dtype=object)"
            ]
          },
          "metadata": {
            "tags": []
          },
          "execution_count": 63
        }
      ]
    },
    {
      "cell_type": "code",
      "metadata": {
        "colab": {
          "base_uri": "https://localhost:8080/"
        },
        "id": "9vyydHKZjxkZ",
        "outputId": "2e4f99c5-ef89-438f-e68b-8df9fa76980b"
      },
      "source": [
        "# See how many rows and columns.\n",
        "data.shape"
      ],
      "execution_count": 64,
      "outputs": [
        {
          "output_type": "execute_result",
          "data": {
            "text/plain": [
              "(7043, 21)"
            ]
          },
          "metadata": {
            "tags": []
          },
          "execution_count": 64
        }
      ]
    },
    {
      "cell_type": "markdown",
      "metadata": {
        "id": "c9UjGGYvkfnR"
      },
      "source": [
        "More data cleanup: next we’ll convert the categorical values into numeric values.\n",
        "\n"
      ]
    },
    {
      "cell_type": "code",
      "metadata": {
        "colab": {
          "base_uri": "https://localhost:8080/"
        },
        "id": "YQhb_u_EkMhB",
        "outputId": "e0ecb02c-cfe2-4e98-b289-906c507b31cc"
      },
      "source": [
        "data['gender'].replace(['Male','Female'],[0,1],inplace=True)\n",
        "data['Partner'].replace(['Yes','No'],[1,0],inplace=True)\n",
        "data['Dependents'].replace(['Yes','No'],[1,0],inplace=True)\n",
        "data['PhoneService'].replace(['Yes','No'],[1,0],inplace=True)\n",
        "data['MultipleLines'].replace(['No phone service','No', 'Yes'],[0,0,1],inplace=True)\n",
        "data['InternetService'].replace(['No','DSL','Fiber optic'],[0,1,2],inplace=True)\n",
        "data['OnlineSecurity'].replace(['No','Yes','No internet service'],[0,1,0],inplace=True)\n",
        "data['OnlineBackup'].replace(['No','Yes','No internet service'],[0,1,0],inplace=True)\n",
        "data['DeviceProtection'].replace(['No','Yes','No internet service'],[0,1,0],inplace=True)\n",
        "data['TechSupport'].replace(['No','Yes','No internet service'],[0,1,0],inplace=True)\n",
        "data['StreamingTV'].replace(['No','Yes','No internet service'],[0,1,0],inplace=True)\n",
        "data['StreamingMovies'].replace(['No','Yes','No internet service'],[0,1,0],inplace=True)\n",
        "data['Contract'].replace(['Month-to-month', 'One year', 'Two year'],[0,1,2],inplace=True)\n",
        "data['PaperlessBilling'].replace(['Yes','No'],[1,0],inplace=True)\n",
        "data['PaymentMethod'].replace(['Electronic check', 'Mailed check', 'Bank transfer (automatic)','Credit card (automatic)'],[0,1,2,3],inplace=True)\n",
        "data['Churn'].replace(['Yes','No'],[1,0],inplace=True)\n",
        " \n",
        "data.info()"
      ],
      "execution_count": 65,
      "outputs": [
        {
          "output_type": "stream",
          "text": [
            "<class 'pandas.core.frame.DataFrame'>\n",
            "RangeIndex: 7043 entries, 0 to 7042\n",
            "Data columns (total 21 columns):\n",
            " #   Column            Non-Null Count  Dtype  \n",
            "---  ------            --------------  -----  \n",
            " 0   customerID        7043 non-null   object \n",
            " 1   gender            7043 non-null   int64  \n",
            " 2   SeniorCitizen     7043 non-null   int64  \n",
            " 3   Partner           7043 non-null   int64  \n",
            " 4   Dependents        7043 non-null   int64  \n",
            " 5   tenure            7043 non-null   int64  \n",
            " 6   PhoneService      7043 non-null   int64  \n",
            " 7   MultipleLines     7043 non-null   int64  \n",
            " 8   InternetService   7043 non-null   int64  \n",
            " 9   OnlineSecurity    7043 non-null   int64  \n",
            " 10  OnlineBackup      7043 non-null   int64  \n",
            " 11  DeviceProtection  7043 non-null   int64  \n",
            " 12  TechSupport       7043 non-null   int64  \n",
            " 13  StreamingTV       7043 non-null   int64  \n",
            " 14  StreamingMovies   7043 non-null   int64  \n",
            " 15  Contract          7043 non-null   int64  \n",
            " 16  PaperlessBilling  7043 non-null   int64  \n",
            " 17  PaymentMethod     7043 non-null   int64  \n",
            " 18  MonthlyCharges    7043 non-null   float64\n",
            " 19  TotalCharges      7043 non-null   float64\n",
            " 20  Churn             7043 non-null   int64  \n",
            "dtypes: float64(2), int64(18), object(1)\n",
            "memory usage: 1.1+ MB\n"
          ],
          "name": "stdout"
        }
      ]
    },
    {
      "cell_type": "markdown",
      "metadata": {
        "id": "2pZ9mYQKkwcB"
      },
      "source": [
        "Our goal is to avoid multicollinearity by dropping features that are closely correlated with each other. For example here it is TotalCharges and MonthlyCharges. So we will drop TotalCharges."
      ]
    },
    {
      "cell_type": "code",
      "metadata": {
        "colab": {
          "base_uri": "https://localhost:8080/"
        },
        "id": "AAmwjNHwkWMq",
        "outputId": "5e31cd3f-822c-49d1-ab60-ab444016f0b1"
      },
      "source": [
        "data.pop('TotalCharges')"
      ],
      "execution_count": 66,
      "outputs": [
        {
          "output_type": "execute_result",
          "data": {
            "text/plain": [
              "0         29.85\n",
              "1       1889.50\n",
              "2        108.15\n",
              "3       1840.75\n",
              "4        151.65\n",
              "         ...   \n",
              "7038    1990.50\n",
              "7039    7362.90\n",
              "7040     346.45\n",
              "7041     306.60\n",
              "7042    6844.50\n",
              "Name: TotalCharges, Length: 7043, dtype: float64"
            ]
          },
          "metadata": {
            "tags": []
          },
          "execution_count": 66
        }
      ]
    },
    {
      "cell_type": "code",
      "metadata": {
        "colab": {
          "base_uri": "https://localhost:8080/"
        },
        "id": "Z3MQf7ICk0Hg",
        "outputId": "46f7f99e-0e59-48fe-8944-8eff0e27f5e6"
      },
      "source": [
        "# Run info again to make sure TotalCharges has been dropped (popped off).\n",
        "data.info()"
      ],
      "execution_count": 67,
      "outputs": [
        {
          "output_type": "stream",
          "text": [
            "<class 'pandas.core.frame.DataFrame'>\n",
            "RangeIndex: 7043 entries, 0 to 7042\n",
            "Data columns (total 20 columns):\n",
            " #   Column            Non-Null Count  Dtype  \n",
            "---  ------            --------------  -----  \n",
            " 0   customerID        7043 non-null   object \n",
            " 1   gender            7043 non-null   int64  \n",
            " 2   SeniorCitizen     7043 non-null   int64  \n",
            " 3   Partner           7043 non-null   int64  \n",
            " 4   Dependents        7043 non-null   int64  \n",
            " 5   tenure            7043 non-null   int64  \n",
            " 6   PhoneService      7043 non-null   int64  \n",
            " 7   MultipleLines     7043 non-null   int64  \n",
            " 8   InternetService   7043 non-null   int64  \n",
            " 9   OnlineSecurity    7043 non-null   int64  \n",
            " 10  OnlineBackup      7043 non-null   int64  \n",
            " 11  DeviceProtection  7043 non-null   int64  \n",
            " 12  TechSupport       7043 non-null   int64  \n",
            " 13  StreamingTV       7043 non-null   int64  \n",
            " 14  StreamingMovies   7043 non-null   int64  \n",
            " 15  Contract          7043 non-null   int64  \n",
            " 16  PaperlessBilling  7043 non-null   int64  \n",
            " 17  PaymentMethod     7043 non-null   int64  \n",
            " 18  MonthlyCharges    7043 non-null   float64\n",
            " 19  Churn             7043 non-null   int64  \n",
            "dtypes: float64(1), int64(18), object(1)\n",
            "memory usage: 1.1+ MB\n"
          ],
          "name": "stdout"
        }
      ]
    },
    {
      "cell_type": "code",
      "metadata": {
        "colab": {
          "base_uri": "https://localhost:8080/"
        },
        "id": "NGSxQe-mk6BR",
        "outputId": "9de758e7-4eda-4954-e459-04d7e96870ae"
      },
      "source": [
        "# Explore how many churn data points we have.\n",
        "print(len(data['Churn']))"
      ],
      "execution_count": 68,
      "outputs": [
        {
          "output_type": "stream",
          "text": [
            "7043\n"
          ],
          "name": "stdout"
        }
      ]
    },
    {
      "cell_type": "code",
      "metadata": {
        "colab": {
          "base_uri": "https://localhost:8080/"
        },
        "id": "kxzZ30AOlsfm",
        "outputId": "0215bd54-85ee-4057-97f6-3dab11889d83"
      },
      "source": [
        "# Explore how many customers in this dataset have churned. Is this dataset 50% as the team suggests is the overall customer churn rate?  \n",
        "data['Churn'].value_counts()\n",
        "# We see this dataset actually has less than the overall 50% churn rate of the entire company reported data (it's actually 26.54% that have churned."
      ],
      "execution_count": 69,
      "outputs": [
        {
          "output_type": "execute_result",
          "data": {
            "text/plain": [
              "0    5174\n",
              "1    1869\n",
              "Name: Churn, dtype: int64"
            ]
          },
          "metadata": {
            "tags": []
          },
          "execution_count": 69
        }
      ]
    },
    {
      "cell_type": "code",
      "metadata": {
        "colab": {
          "base_uri": "https://localhost:8080/",
          "height": 278
        },
        "id": "aK_F79K9mntq",
        "outputId": "29627cb7-c9ff-46a1-c0e3-57214c0af6f1"
      },
      "source": [
        "# This creates a bar graph of churn (Yes vs. No) so we can check how the data is balanced.\n",
        "data['Churn'].value_counts().plot(kind = 'bar', title = 'Bar Graph of Non-Churners vs Churners by Count (Churn is a 1)', color = 'blue', align = 'center')\n",
        "plt.show()\n",
        "# The dataset does not have a huge imbalance which is good news! But also we clearly see it does not have the 50% as we would have thought. "
      ],
      "execution_count": 70,
      "outputs": [
        {
          "output_type": "display_data",
          "data": {
            "image/png": "[encoded data removed]",
            "text/plain": [
              "<Figure size 432x288 with 1 Axes>"
            ]
          },
          "metadata": {
            "tags": [],
            "needs_background": "light"
          }
        }
      ]
    },
    {
      "cell_type": "code",
      "metadata": {
        "colab": {
          "base_uri": "https://localhost:8080/",
          "height": 137
        },
        "id": "8JI5uCUGmrx3",
        "outputId": "cb1d6892-7897-450b-8464-fcae020d9c39"
      },
      "source": [
        "# Creates initial contingency table between Churn and gender. Male is 0, Female is 1.\n",
        "gender_churn_contingency = pd.crosstab(data[\"gender\"], data[\"Churn\"])\n",
        "display(gender_churn_contingency)\n",
        "# Male and females churn at about the same rate, so not much to see here. Let's keep moving."
      ],
      "execution_count": 71,
      "outputs": [
        {
          "output_type": "display_data",
          "data": {
            "text/html": [
              "<div>\n",
              "<style scoped>\n",
              "    .dataframe tbody tr th:only-of-type {\n",
              "        vertical-align: middle;\n",
              "    }\n",
              "\n",
              "    .dataframe tbody tr th {\n",
              "        vertical-align: top;\n",
              "    }\n",
              "\n",
              "    .dataframe thead th {\n",
              "        text-align: right;\n",
              "    }\n",
              "</style>\n",
              "<table border=\"1\" class=\"dataframe\">\n",
              "  <thead>\n",
              "    <tr style=\"text-align: right;\">\n",
              "      <th>Churn</th>\n",
              "      <th>0</th>\n",
              "      <th>1</th>\n",
              "    </tr>\n",
              "    <tr>\n",
              "      <th>gender</th>\n",
              "      <th></th>\n",
              "      <th></th>\n",
              "    </tr>\n",
              "  </thead>\n",
              "  <tbody>\n",
              "    <tr>\n",
              "      <th>0</th>\n",
              "      <td>2630</td>\n",
              "      <td>930</td>\n",
              "    </tr>\n",
              "    <tr>\n",
              "      <th>1</th>\n",
              "      <td>2544</td>\n",
              "      <td>939</td>\n",
              "    </tr>\n",
              "  </tbody>\n",
              "</table>\n",
              "</div>"
            ],
            "text/plain": [
              "Churn      0    1\n",
              "gender           \n",
              "0       2630  930\n",
              "1       2544  939"
            ]
          },
          "metadata": {
            "tags": []
          }
        }
      ]
    },
    {
      "cell_type": "code",
      "metadata": {
        "colab": {
          "base_uri": "https://localhost:8080/",
          "height": 497
        },
        "id": "8h4TnBpsmzvo",
        "outputId": "54e09ec2-21e0-4698-b56b-3a5a17a1e301"
      },
      "source": [
        "# Check the data health. The sections should all be completely black indicating the data is complete.\n",
        "ms.matrix(data)\n",
        "# It looks good."
      ],
      "execution_count": 72,
      "outputs": [
        {
          "output_type": "execute_result",
          "data": {
            "text/plain": [
              "<matplotlib.axes._subplots.AxesSubplot at 0x7fce2bec56d0>"
            ]
          },
          "metadata": {
            "tags": []
          },
          "execution_count": 72
        },
        {
          "output_type": "display_data",
          "data": {
            "image/png": "[encoded data removed]",
            "text/plain": [
              "<Figure size 1800x720 with 2 Axes>"
            ]
          },
          "metadata": {
            "tags": [],
            "needs_background": "light"
          }
        }
      ]
    },
    {
      "cell_type": "code",
      "metadata": {
        "colab": {
          "base_uri": "https://localhost:8080/",
          "height": 292
        },
        "id": "jbzqs4TDm4W3",
        "outputId": "9664c87b-e0a8-4d56-b908-4941e6fd2e1a"
      },
      "source": [
        "# Explore the relationship between instances of Tech Support and Churn. \n",
        "# Stacked Bar of Tech Support and Churn.\n",
        "tech_support_churn = pd.crosstab(data['TechSupport'], data['Churn'])\n",
        "tech_support_churn.plot(kind = 'bar', stacked = True)\n",
        "plt.ylabel('Count')\n",
        "plt.xlabel('Tech Support Count')\n",
        "plt.title('Churn Rate Relative to Uses of Tech Support (Churned is a 1)')\n",
        "plt.show()\n",
        "# We can see that non-churners use tech support more often than customers that end up churning.\n",
        "# So let's explore some ways to get people to use Tech Support more often so they cancel (churn) less. You can see notes for this at the bottom. \n",
        "# Also, tech support in this data is just a Y/N. It would be useful in future to include how many tech support calls by customer so we could analyze how the number of tech support calls relates to churn."
      ],
      "execution_count": 73,
      "outputs": [
        {
          "output_type": "display_data",
          "data": {
            "image/png": "[encoded data removed]",
            "text/plain": [
              "<Figure size 432x288 with 1 Axes>"
            ]
          },
          "metadata": {
            "tags": [],
            "needs_background": "light"
          }
        }
      ]
    },
    {
      "cell_type": "code",
      "metadata": {
        "colab": {
          "base_uri": "https://localhost:8080/",
          "height": 298
        },
        "id": "17NjCn76nDkf",
        "outputId": "0569af7e-05b6-4e48-c7f5-a6c03458c71d"
      },
      "source": [
        "# Churn rate relative to tenure.\n",
        "# Stacked bar of tenure and churn.\n",
        "tenure_churn = pd.crosstab(data['tenure'], data['Churn'])\n",
        "tenure_churn.plot(kind = 'bar', stacked = True)\n",
        "plt.ylabel('Count')\n",
        "plt.xlabel('Tenure of Subscription')\n",
        "plt.title('Churn Rate Relative to Tenure of Subscription (Churned is a 1)')\n",
        "plt.show()\n",
        "# We can clearly see the longer a customer stays as a subscriber, the less they are likely to churn!"
      ],
      "execution_count": 74,
      "outputs": [
        {
          "output_type": "display_data",
          "data": {
            "image/png": "[encoded data removed]",
            "text/plain": [
              "<Figure size 432x288 with 1 Axes>"
            ]
          },
          "metadata": {
            "tags": [],
            "needs_background": "light"
          }
        }
      ]
    },
    {
      "cell_type": "code",
      "metadata": {
        "colab": {
          "base_uri": "https://localhost:8080/",
          "height": 306
        },
        "id": "YTDu_YRhnKbO",
        "outputId": "aacabb61-23f7-48be-fd9a-4067221f140c"
      },
      "source": [
        "# Distribution of features.\n",
        "features = ['gender', 'SeniorCitizen','Partner', 'Dependents', 'tenure', 'PhoneService', 'MultipleLines', 'InternetService', 'OnlineSecurity', 'OnlineBackup', 'DeviceProtection', 'TechSupport', 'StreamingTV', 'StreamingMovies', 'Contract', 'PaperlessBilling', 'PaymentMethod', 'MonthlyCharges']\n",
        "data[features].describe()"
      ],
      "execution_count": 75,
      "outputs": [
        {
          "output_type": "execute_result",
          "data": {
            "text/html": [
              "<div>\n",
              "<style scoped>\n",
              "    .dataframe tbody tr th:only-of-type {\n",
              "        vertical-align: middle;\n",
              "    }\n",
              "\n",
              "    .dataframe tbody tr th {\n",
              "        vertical-align: top;\n",
              "    }\n",
              "\n",
              "    .dataframe thead th {\n",
              "        text-align: right;\n",
              "    }\n",
              "</style>\n",
              "<table border=\"1\" class=\"dataframe\">\n",
              "  <thead>\n",
              "    <tr style=\"text-align: right;\">\n",
              "      <th></th>\n",
              "      <th>gender</th>\n",
              "      <th>SeniorCitizen</th>\n",
              "      <th>Partner</th>\n",
              "      <th>Dependents</th>\n",
              "      <th>tenure</th>\n",
              "      <th>PhoneService</th>\n",
              "      <th>MultipleLines</th>\n",
              "      <th>InternetService</th>\n",
              "      <th>OnlineSecurity</th>\n",
              "      <th>OnlineBackup</th>\n",
              "      <th>DeviceProtection</th>\n",
              "      <th>TechSupport</th>\n",
              "      <th>StreamingTV</th>\n",
              "      <th>StreamingMovies</th>\n",
              "      <th>Contract</th>\n",
              "      <th>PaperlessBilling</th>\n",
              "      <th>PaymentMethod</th>\n",
              "      <th>MonthlyCharges</th>\n",
              "    </tr>\n",
              "  </thead>\n",
              "  <tbody>\n",
              "    <tr>\n",
              "      <th>count</th>\n",
              "      <td>7043.000000</td>\n",
              "      <td>7043.000000</td>\n",
              "      <td>7043.000000</td>\n",
              "      <td>7043.000000</td>\n",
              "      <td>7043.000000</td>\n",
              "      <td>7043.000000</td>\n",
              "      <td>7043.000000</td>\n",
              "      <td>7043.000000</td>\n",
              "      <td>7043.000000</td>\n",
              "      <td>7043.000000</td>\n",
              "      <td>7043.000000</td>\n",
              "      <td>7043.000000</td>\n",
              "      <td>7043.000000</td>\n",
              "      <td>7043.000000</td>\n",
              "      <td>7043.000000</td>\n",
              "      <td>7043.000000</td>\n",
              "      <td>7043.000000</td>\n",
              "      <td>7043.000000</td>\n",
              "    </tr>\n",
              "    <tr>\n",
              "      <th>mean</th>\n",
              "      <td>0.494534</td>\n",
              "      <td>0.162147</td>\n",
              "      <td>0.481755</td>\n",
              "      <td>0.298026</td>\n",
              "      <td>32.371149</td>\n",
              "      <td>0.901888</td>\n",
              "      <td>0.421269</td>\n",
              "      <td>1.222206</td>\n",
              "      <td>0.286100</td>\n",
              "      <td>0.344314</td>\n",
              "      <td>0.343320</td>\n",
              "      <td>0.289649</td>\n",
              "      <td>0.383785</td>\n",
              "      <td>0.387761</td>\n",
              "      <td>0.687491</td>\n",
              "      <td>0.591793</td>\n",
              "      <td>1.313503</td>\n",
              "      <td>64.697004</td>\n",
              "    </tr>\n",
              "    <tr>\n",
              "      <th>std</th>\n",
              "      <td>0.500006</td>\n",
              "      <td>0.368612</td>\n",
              "      <td>0.499702</td>\n",
              "      <td>0.457424</td>\n",
              "      <td>24.559481</td>\n",
              "      <td>0.297487</td>\n",
              "      <td>0.493798</td>\n",
              "      <td>0.779535</td>\n",
              "      <td>0.451969</td>\n",
              "      <td>0.475178</td>\n",
              "      <td>0.474851</td>\n",
              "      <td>0.453632</td>\n",
              "      <td>0.486341</td>\n",
              "      <td>0.487274</td>\n",
              "      <td>0.832727</td>\n",
              "      <td>0.491537</td>\n",
              "      <td>1.149799</td>\n",
              "      <td>30.171186</td>\n",
              "    </tr>\n",
              "    <tr>\n",
              "      <th>min</th>\n",
              "      <td>0.000000</td>\n",
              "      <td>0.000000</td>\n",
              "      <td>0.000000</td>\n",
              "      <td>0.000000</td>\n",
              "      <td>0.000000</td>\n",
              "      <td>0.000000</td>\n",
              "      <td>0.000000</td>\n",
              "      <td>0.000000</td>\n",
              "      <td>0.000000</td>\n",
              "      <td>0.000000</td>\n",
              "      <td>0.000000</td>\n",
              "      <td>0.000000</td>\n",
              "      <td>0.000000</td>\n",
              "      <td>0.000000</td>\n",
              "      <td>0.000000</td>\n",
              "      <td>0.000000</td>\n",
              "      <td>0.000000</td>\n",
              "      <td>0.000000</td>\n",
              "    </tr>\n",
              "    <tr>\n",
              "      <th>25%</th>\n",
              "      <td>0.000000</td>\n",
              "      <td>0.000000</td>\n",
              "      <td>0.000000</td>\n",
              "      <td>0.000000</td>\n",
              "      <td>9.000000</td>\n",
              "      <td>1.000000</td>\n",
              "      <td>0.000000</td>\n",
              "      <td>1.000000</td>\n",
              "      <td>0.000000</td>\n",
              "      <td>0.000000</td>\n",
              "      <td>0.000000</td>\n",
              "      <td>0.000000</td>\n",
              "      <td>0.000000</td>\n",
              "      <td>0.000000</td>\n",
              "      <td>0.000000</td>\n",
              "      <td>0.000000</td>\n",
              "      <td>0.000000</td>\n",
              "      <td>35.450000</td>\n",
              "    </tr>\n",
              "    <tr>\n",
              "      <th>50%</th>\n",
              "      <td>0.000000</td>\n",
              "      <td>0.000000</td>\n",
              "      <td>0.000000</td>\n",
              "      <td>0.000000</td>\n",
              "      <td>29.000000</td>\n",
              "      <td>1.000000</td>\n",
              "      <td>0.000000</td>\n",
              "      <td>1.000000</td>\n",
              "      <td>0.000000</td>\n",
              "      <td>0.000000</td>\n",
              "      <td>0.000000</td>\n",
              "      <td>0.000000</td>\n",
              "      <td>0.000000</td>\n",
              "      <td>0.000000</td>\n",
              "      <td>0.000000</td>\n",
              "      <td>1.000000</td>\n",
              "      <td>1.000000</td>\n",
              "      <td>70.350000</td>\n",
              "    </tr>\n",
              "    <tr>\n",
              "      <th>75%</th>\n",
              "      <td>1.000000</td>\n",
              "      <td>0.000000</td>\n",
              "      <td>1.000000</td>\n",
              "      <td>1.000000</td>\n",
              "      <td>55.000000</td>\n",
              "      <td>1.000000</td>\n",
              "      <td>1.000000</td>\n",
              "      <td>2.000000</td>\n",
              "      <td>1.000000</td>\n",
              "      <td>1.000000</td>\n",
              "      <td>1.000000</td>\n",
              "      <td>1.000000</td>\n",
              "      <td>1.000000</td>\n",
              "      <td>1.000000</td>\n",
              "      <td>1.000000</td>\n",
              "      <td>1.000000</td>\n",
              "      <td>2.000000</td>\n",
              "      <td>89.850000</td>\n",
              "    </tr>\n",
              "    <tr>\n",
              "      <th>max</th>\n",
              "      <td>1.000000</td>\n",
              "      <td>1.000000</td>\n",
              "      <td>1.000000</td>\n",
              "      <td>1.000000</td>\n",
              "      <td>72.000000</td>\n",
              "      <td>1.000000</td>\n",
              "      <td>1.000000</td>\n",
              "      <td>2.000000</td>\n",
              "      <td>1.000000</td>\n",
              "      <td>1.000000</td>\n",
              "      <td>1.000000</td>\n",
              "      <td>1.000000</td>\n",
              "      <td>1.000000</td>\n",
              "      <td>1.000000</td>\n",
              "      <td>2.000000</td>\n",
              "      <td>1.000000</td>\n",
              "      <td>3.000000</td>\n",
              "      <td>118.750000</td>\n",
              "    </tr>\n",
              "  </tbody>\n",
              "</table>\n",
              "</div>"
            ],
            "text/plain": [
              "            gender  SeniorCitizen  ...  PaymentMethod  MonthlyCharges\n",
              "count  7043.000000    7043.000000  ...    7043.000000     7043.000000\n",
              "mean      0.494534       0.162147  ...       1.313503       64.697004\n",
              "std       0.500006       0.368612  ...       1.149799       30.171186\n",
              "min       0.000000       0.000000  ...       0.000000        0.000000\n",
              "25%       0.000000       0.000000  ...       0.000000       35.450000\n",
              "50%       0.000000       0.000000  ...       1.000000       70.350000\n",
              "75%       1.000000       0.000000  ...       2.000000       89.850000\n",
              "max       1.000000       1.000000  ...       3.000000      118.750000\n",
              "\n",
              "[8 rows x 18 columns]"
            ]
          },
          "metadata": {
            "tags": []
          },
          "execution_count": 75
        }
      ]
    },
    {
      "cell_type": "code",
      "metadata": {
        "colab": {
          "base_uri": "https://localhost:8080/",
          "height": 333
        },
        "id": "edvV8T-anQOB",
        "outputId": "bb2b66dd-1a9c-496f-e982-21103573cc86"
      },
      "source": [
        "# Plot the distribution of observations for tenure.\n",
        "sns.distplot(data['tenure']);\n",
        "# It shows the max tenure is 70. This must be when the data history ends. We'll account for this in our analysis."
      ],
      "execution_count": 76,
      "outputs": [
        {
          "output_type": "stream",
          "text": [
            "/usr/local/lib/python3.7/dist-packages/seaborn/distributions.py:2557: FutureWarning: `distplot` is a deprecated function and will be removed in a future version. Please adapt your code to use either `displot` (a figure-level function with similar flexibility) or `histplot` (an axes-level function for histograms).\n",
            "  warnings.warn(msg, FutureWarning)\n"
          ],
          "name": "stderr"
        },
        {
          "output_type": "display_data",
          "data": {
            "image/png": "[encoded data removed]",
            "text/plain": [
              "<Figure size 432x288 with 1 Axes>"
            ]
          },
          "metadata": {
            "tags": [],
            "needs_background": "light"
          }
        }
      ]
    },
    {
      "cell_type": "code",
      "metadata": {
        "colab": {
          "base_uri": "https://localhost:8080/",
          "height": 279
        },
        "id": "Mx6MYrIonTop",
        "outputId": "365337e4-2e20-4870-a5a7-67e0eb0dbf63"
      },
      "source": [
        "# Does how a customer pays have to do with their churn?\n",
        "_, axes = plt.subplots(1, 2, sharey=True, figsize=(10, 4)) \n",
        "sns.countplot(x='PaperlessBilling', hue='Churn',\n",
        "              data=data, ax=axes[0]);\n",
        "sns.countplot(x='PaymentMethod', hue='Churn',\n",
        "              data=data, ax=axes[1]);\n",
        "# We can see that customers that use paperless billing are much more likely to churn (0 = don't have paperless billing). That seems backwards I would go check that data with the team.\n",
        "# We can see that customers that have the 0 payment method (electronic check) are much more likely to churn. Let's discourage that option."
      ],
      "execution_count": 77,
      "outputs": [
        {
          "output_type": "display_data",
          "data": {
            "image/png": "[encoded data removed]",
            "text/plain": [
              "<Figure size 720x288 with 2 Axes>"
            ]
          },
          "metadata": {
            "tags": [],
            "needs_background": "light"
          }
        }
      ]
    },
    {
      "cell_type": "code",
      "metadata": {
        "colab": {
          "base_uri": "https://localhost:8080/",
          "height": 279
        },
        "id": "EsjBDAounYp4",
        "outputId": "a48829ea-2974-42e2-e656-0a8c28649652"
      },
      "source": [
        "# See if the other products they have from this company has to do with their churn.\n",
        "_, axes = plt.subplots(1, 2, sharey=True, figsize=(10, 4)) \n",
        "sns.countplot(x='PhoneService', hue='Churn',\n",
        "              data=data, ax=axes[0]);\n",
        "sns.countplot(x='InternetService', hue='Churn',\n",
        "              data=data, ax=axes[1]);\n",
        "# If they don't have Phone Service, they are more likely to churn.\n",
        "# If they don't have Internet Service, they are more likely to churn. Those customers with the highest Internet Service are least likely to churn.\n",
        "# Conclusion: This makes sense. Customers with other products from the company, and premium products, churn less.\n",
        "# Offer customers these additional products, perhaps even at a deep discount, so they take them and are less likely to churn. "
      ],
      "execution_count": 78,
      "outputs": [
        {
          "output_type": "display_data",
          "data": {
            "image/png": "[encoded data removed]",
            "text/plain": [
              "<Figure size 720x288 with 2 Axes>"
            ]
          },
          "metadata": {
            "tags": [],
            "needs_background": "light"
          }
        }
      ]
    },
    {
      "cell_type": "code",
      "metadata": {
        "id": "TEOXTzluneE7"
      },
      "source": [
        "#SPLITING THE DATA FOR THE XGBOOST MODEL\n",
        "X = data.drop('Churn',axis='columns')\n",
        "y = data['Churn']\n",
        "\n",
        "from sklearn.model_selection import train_test_split\n",
        "X_train, X_test, y_train, y_test = train_test_split(X,y,test_size=0.2,random_state=5)"
      ],
      "execution_count": 96,
      "outputs": []
    },
    {
      "cell_type": "markdown",
      "metadata": {
        "id": "l3IrYXVpnyzi"
      },
      "source": [
        "# Function to estimate the best value of n_estimators and fit the model with the given data."
      ]
    },
    {
      "cell_type": "code",
      "metadata": {
        "id": "OhPyiy97ntE8"
      },
      "source": [
        "train=pd.concat([X_train,y_train],axis=1)"
      ],
      "execution_count": 80,
      "outputs": []
    },
    {
      "cell_type": "code",
      "metadata": {
        "id": "T61_VrVunxte"
      },
      "source": [
        "def modelfit(alg, dtrain, predictors,useTrainCV=True, cv_folds=5, early_stopping_rounds=50):\n",
        "    \n",
        "    if useTrainCV:\n",
        "        #to get the parameters of xgboost\n",
        "        xgb_param = alg.get_xgb_params() \n",
        "        \n",
        "        #to convert into a datastructure internally used by xgboost for training efficiency \n",
        "        # and speed\n",
        "        xgtrain = xgb.DMatrix(dtrain[predictors].values, label=dtrain[target].values)\n",
        "        \n",
        "        #xgb.cv is used to find the number of estimators required for the parameters \n",
        "        # which are set\n",
        "        cvresult = xgb.cv(xgb_param, xgtrain, \n",
        "                          num_boost_round=alg.get_params()['n_estimators'], nfold=cv_folds,\n",
        "                        metrics='auc', early_stopping_rounds=early_stopping_rounds)\n",
        "        \n",
        "        #setting the n_estimators parameter using set_params\n",
        "        alg.set_params(n_estimators=cvresult.shape[0])\n",
        "        \n",
        "        print(alg.get_xgb_params())\n",
        "    \n",
        "    #Fit the algorithm on the data\n",
        "    alg.fit(dtrain[predictors], dtrain['Churn'],eval_metric='auc')\n",
        "    \n",
        "    return alg"
      ],
      "execution_count": 81,
      "outputs": []
    },
    {
      "cell_type": "markdown",
      "metadata": {
        "id": "KuZqUB8moKL9"
      },
      "source": [
        "# Function to get the accuracy of the model on the test data given the features considered."
      ]
    },
    {
      "cell_type": "code",
      "metadata": {
        "id": "AmuR-c0Yn_1r"
      },
      "source": [
        "def get_accuracy(alg,predictors):\n",
        "    dtrain_predictions = alg.predict(X_test[predictors])\n",
        "    dtrain_predprob = alg.predict_proba(X_test[predictors])[:,1]\n",
        "    print (\"\\nModel Report\")\n",
        "    print (\"Accuracy : %.4g\" % metrics.accuracy_score(y_test.values, \n",
        "                                                      dtrain_predictions))\n",
        "    print (\"AUC Score (Train): %f\" % metrics.roc_auc_score(y_test.values, \n",
        "                                                           dtrain_predprob))"
      ],
      "execution_count": 82,
      "outputs": []
    },
    {
      "cell_type": "code",
      "metadata": {
        "id": "Mj36V8froOYf"
      },
      "source": [
        "def get_feature_importances(alg):\n",
        "    #to get the feature importances based on xgboost we use fscore\n",
        "    feat_imp = pd.Series(alg._Booster.get_fscore()).sort_values(ascending=False)\n",
        "    print(feat_imp)\n",
        "    \n",
        "    #this shows the feature importances on a bar chart\n",
        "    feat_imp.plot(kind='bar', title='Feature Importances')\n",
        "    plt.ylabel('Feature Importance Score')"
      ],
      "execution_count": 83,
      "outputs": []
    },
    {
      "cell_type": "code",
      "metadata": {
        "id": "IhVOKoehoWQd"
      },
      "source": [
        "target = 'Churn'\n",
        "IDcol = 'customerID'"
      ],
      "execution_count": 84,
      "outputs": []
    },
    {
      "cell_type": "markdown",
      "metadata": {
        "id": "ZMgcGn-hojF1"
      },
      "source": [
        "Model Selection, Predictions, and Metrics"
      ]
    },
    {
      "cell_type": "code",
      "metadata": {
        "colab": {
          "base_uri": "https://localhost:8080/"
        },
        "id": "qcI8PG-doaQd",
        "outputId": "ee2f9a97-070e-43f0-ed10-6c71186d2408"
      },
      "source": [
        "!pip install xgboost\n",
        "# XGBoost converts weak learners to strong learners through an ensemble method. \n",
        "# Unlike bagging, in the classical boosting the subset creation is not random and depends upon the performance of the previous models."
      ],
      "execution_count": 85,
      "outputs": [
        {
          "output_type": "stream",
          "text": [
            "Requirement already satisfied: xgboost in /usr/local/lib/python3.7/dist-packages (0.90)\n",
            "Requirement already satisfied: scipy in /usr/local/lib/python3.7/dist-packages (from xgboost) (1.4.1)\n",
            "Requirement already satisfied: numpy in /usr/local/lib/python3.7/dist-packages (from xgboost) (1.19.5)\n"
          ],
          "name": "stdout"
        }
      ]
    },
    {
      "cell_type": "code",
      "metadata": {
        "id": "kVHr8Bg4ooDI"
      },
      "source": [
        "def XgbClass(learning_rate =0.1,n_estimators=1000,max_depth=5,min_child_weight=1,\n",
        "             gamma=0,subsample=0.8,colsample_bytree=0.8):\n",
        "    xgb1 = XGBClassifier(learning_rate=learning_rate,\n",
        "                         n_estimators=n_estimators,\n",
        "                         max_depth=max_depth,\n",
        "                         min_child_weight=min_child_weight,\n",
        "                         gamma=gamma,\n",
        "                         subsample=subsample,\n",
        "                         colsample_bytree=colsample_bytree)\n",
        "    return xgb1"
      ],
      "execution_count": 86,
      "outputs": []
    },
    {
      "cell_type": "code",
      "metadata": {
        "id": "ukKbKEnDoto6"
      },
      "source": [
        "# These are the initial parameters before tuning.\n",
        "def drop_features(l):\n",
        "    return [x for x in train.columns if x not in l]"
      ],
      "execution_count": 87,
      "outputs": []
    },
    {
      "cell_type": "code",
      "metadata": {
        "id": "oaEFADxEozPX"
      },
      "source": [
        "#First Prediction: Use of initial parameters and without feature engineering"
      ],
      "execution_count": 88,
      "outputs": []
    },
    {
      "cell_type": "code",
      "metadata": {
        "colab": {
          "base_uri": "https://localhost:8080/"
        },
        "id": "cW83CSrto9Sy",
        "outputId": "123d1f04-1fed-463d-f6c8-c97e67e4b545"
      },
      "source": [
        "from xgboost import XGBClassifier\n",
        "import xgboost as xgb\n",
        "predictors = drop_features([target, IDcol])\n",
        "xgb1=XgbClass()\n",
        "first_model=modelfit(xgb1, train, predictors)\n",
        "xgb1.fit(train[predictors],train['Churn'])"
      ],
      "execution_count": 89,
      "outputs": [
        {
          "output_type": "stream",
          "text": [
            "{'base_score': 0.5, 'booster': 'gbtree', 'colsample_bylevel': 1, 'colsample_bynode': 1, 'colsample_bytree': 0.8, 'gamma': 0, 'learning_rate': 0.1, 'max_delta_step': 0, 'max_depth': 5, 'min_child_weight': 1, 'missing': None, 'n_estimators': 37, 'nthread': 1, 'objective': 'binary:logistic', 'reg_alpha': 0, 'reg_lambda': 1, 'scale_pos_weight': 1, 'seed': 0, 'subsample': 0.8, 'verbosity': 1}\n"
          ],
          "name": "stdout"
        },
        {
          "output_type": "execute_result",
          "data": {
            "text/plain": [
              "XGBClassifier(base_score=0.5, booster='gbtree', colsample_bylevel=1,\n",
              "              colsample_bynode=1, colsample_bytree=0.8, gamma=0,\n",
              "              learning_rate=0.1, max_delta_step=0, max_depth=5,\n",
              "              min_child_weight=1, missing=None, n_estimators=37, n_jobs=1,\n",
              "              nthread=None, objective='binary:logistic', random_state=0,\n",
              "              reg_alpha=0, reg_lambda=1, scale_pos_weight=1, seed=None,\n",
              "              silent=None, subsample=0.8, verbosity=1)"
            ]
          },
          "metadata": {
            "tags": []
          },
          "execution_count": 89
        }
      ]
    },
    {
      "cell_type": "code",
      "metadata": {
        "colab": {
          "base_uri": "https://localhost:8080/"
        },
        "id": "CEJ657x_pAs_",
        "outputId": "7ca976e2-5f31-4e9b-a978-1fb22dd8b012"
      },
      "source": [
        "X_train.shape"
      ],
      "execution_count": 90,
      "outputs": [
        {
          "output_type": "execute_result",
          "data": {
            "text/plain": [
              "(4930, 19)"
            ]
          },
          "metadata": {
            "tags": []
          },
          "execution_count": 90
        }
      ]
    },
    {
      "cell_type": "code",
      "metadata": {
        "colab": {
          "base_uri": "https://localhost:8080/"
        },
        "id": "P3m6-W7wrSVz",
        "outputId": "01ec9bcf-ee14-4037-c733-1b2af524954a"
      },
      "source": [
        "X_test.shape"
      ],
      "execution_count": 91,
      "outputs": [
        {
          "output_type": "execute_result",
          "data": {
            "text/plain": [
              "(2113, 19)"
            ]
          },
          "metadata": {
            "tags": []
          },
          "execution_count": 91
        }
      ]
    },
    {
      "cell_type": "code",
      "metadata": {
        "colab": {
          "base_uri": "https://localhost:8080/",
          "height": 533
        },
        "id": "QhIBnPVvrWSw",
        "outputId": "68adc1a3-58f2-4ad6-8643-4508b04379cb"
      },
      "source": [
        "X_train[:10]"
      ],
      "execution_count": 92,
      "outputs": [
        {
          "output_type": "execute_result",
          "data": {
            "text/html": [
              "<div>\n",
              "<style scoped>\n",
              "    .dataframe tbody tr th:only-of-type {\n",
              "        vertical-align: middle;\n",
              "    }\n",
              "\n",
              "    .dataframe tbody tr th {\n",
              "        vertical-align: top;\n",
              "    }\n",
              "\n",
              "    .dataframe thead th {\n",
              "        text-align: right;\n",
              "    }\n",
              "</style>\n",
              "<table border=\"1\" class=\"dataframe\">\n",
              "  <thead>\n",
              "    <tr style=\"text-align: right;\">\n",
              "      <th></th>\n",
              "      <th>customerID</th>\n",
              "      <th>gender</th>\n",
              "      <th>SeniorCitizen</th>\n",
              "      <th>Partner</th>\n",
              "      <th>Dependents</th>\n",
              "      <th>tenure</th>\n",
              "      <th>PhoneService</th>\n",
              "      <th>MultipleLines</th>\n",
              "      <th>InternetService</th>\n",
              "      <th>OnlineSecurity</th>\n",
              "      <th>OnlineBackup</th>\n",
              "      <th>DeviceProtection</th>\n",
              "      <th>TechSupport</th>\n",
              "      <th>StreamingTV</th>\n",
              "      <th>StreamingMovies</th>\n",
              "      <th>Contract</th>\n",
              "      <th>PaperlessBilling</th>\n",
              "      <th>PaymentMethod</th>\n",
              "      <th>MonthlyCharges</th>\n",
              "    </tr>\n",
              "  </thead>\n",
              "  <tbody>\n",
              "    <tr>\n",
              "      <th>2823</th>\n",
              "      <td>4884-LEVMQ</td>\n",
              "      <td>0</td>\n",
              "      <td>0</td>\n",
              "      <td>1</td>\n",
              "      <td>0</td>\n",
              "      <td>39</td>\n",
              "      <td>1</td>\n",
              "      <td>0</td>\n",
              "      <td>0</td>\n",
              "      <td>0</td>\n",
              "      <td>0</td>\n",
              "      <td>0</td>\n",
              "      <td>0</td>\n",
              "      <td>0</td>\n",
              "      <td>0</td>\n",
              "      <td>2</td>\n",
              "      <td>1</td>\n",
              "      <td>2</td>\n",
              "      <td>20.45</td>\n",
              "    </tr>\n",
              "    <tr>\n",
              "      <th>3908</th>\n",
              "      <td>8261-GWDBQ</td>\n",
              "      <td>1</td>\n",
              "      <td>1</td>\n",
              "      <td>1</td>\n",
              "      <td>0</td>\n",
              "      <td>60</td>\n",
              "      <td>1</td>\n",
              "      <td>1</td>\n",
              "      <td>2</td>\n",
              "      <td>1</td>\n",
              "      <td>1</td>\n",
              "      <td>1</td>\n",
              "      <td>1</td>\n",
              "      <td>1</td>\n",
              "      <td>1</td>\n",
              "      <td>2</td>\n",
              "      <td>1</td>\n",
              "      <td>2</td>\n",
              "      <td>116.05</td>\n",
              "    </tr>\n",
              "    <tr>\n",
              "      <th>1539</th>\n",
              "      <td>5071-FBJFS</td>\n",
              "      <td>1</td>\n",
              "      <td>0</td>\n",
              "      <td>1</td>\n",
              "      <td>1</td>\n",
              "      <td>4</td>\n",
              "      <td>1</td>\n",
              "      <td>0</td>\n",
              "      <td>1</td>\n",
              "      <td>1</td>\n",
              "      <td>0</td>\n",
              "      <td>0</td>\n",
              "      <td>0</td>\n",
              "      <td>0</td>\n",
              "      <td>0</td>\n",
              "      <td>0</td>\n",
              "      <td>0</td>\n",
              "      <td>0</td>\n",
              "      <td>50.30</td>\n",
              "    </tr>\n",
              "    <tr>\n",
              "      <th>2792</th>\n",
              "      <td>9163-GHAYE</td>\n",
              "      <td>1</td>\n",
              "      <td>0</td>\n",
              "      <td>0</td>\n",
              "      <td>0</td>\n",
              "      <td>15</td>\n",
              "      <td>1</td>\n",
              "      <td>0</td>\n",
              "      <td>1</td>\n",
              "      <td>0</td>\n",
              "      <td>1</td>\n",
              "      <td>0</td>\n",
              "      <td>0</td>\n",
              "      <td>0</td>\n",
              "      <td>0</td>\n",
              "      <td>0</td>\n",
              "      <td>0</td>\n",
              "      <td>0</td>\n",
              "      <td>48.85</td>\n",
              "    </tr>\n",
              "    <tr>\n",
              "      <th>896</th>\n",
              "      <td>8975-SKGRX</td>\n",
              "      <td>0</td>\n",
              "      <td>0</td>\n",
              "      <td>1</td>\n",
              "      <td>0</td>\n",
              "      <td>71</td>\n",
              "      <td>1</td>\n",
              "      <td>1</td>\n",
              "      <td>2</td>\n",
              "      <td>1</td>\n",
              "      <td>1</td>\n",
              "      <td>1</td>\n",
              "      <td>1</td>\n",
              "      <td>1</td>\n",
              "      <td>1</td>\n",
              "      <td>2</td>\n",
              "      <td>1</td>\n",
              "      <td>2</td>\n",
              "      <td>116.10</td>\n",
              "    </tr>\n",
              "    <tr>\n",
              "      <th>6986</th>\n",
              "      <td>3976-BWUCK</td>\n",
              "      <td>1</td>\n",
              "      <td>0</td>\n",
              "      <td>1</td>\n",
              "      <td>0</td>\n",
              "      <td>30</td>\n",
              "      <td>1</td>\n",
              "      <td>1</td>\n",
              "      <td>2</td>\n",
              "      <td>0</td>\n",
              "      <td>1</td>\n",
              "      <td>0</td>\n",
              "      <td>1</td>\n",
              "      <td>1</td>\n",
              "      <td>0</td>\n",
              "      <td>0</td>\n",
              "      <td>1</td>\n",
              "      <td>3</td>\n",
              "      <td>94.10</td>\n",
              "    </tr>\n",
              "    <tr>\n",
              "      <th>5203</th>\n",
              "      <td>0734-OXWBT</td>\n",
              "      <td>0</td>\n",
              "      <td>0</td>\n",
              "      <td>0</td>\n",
              "      <td>1</td>\n",
              "      <td>3</td>\n",
              "      <td>1</td>\n",
              "      <td>0</td>\n",
              "      <td>1</td>\n",
              "      <td>0</td>\n",
              "      <td>0</td>\n",
              "      <td>0</td>\n",
              "      <td>1</td>\n",
              "      <td>1</td>\n",
              "      <td>1</td>\n",
              "      <td>0</td>\n",
              "      <td>0</td>\n",
              "      <td>1</td>\n",
              "      <td>70.70</td>\n",
              "    </tr>\n",
              "    <tr>\n",
              "      <th>1270</th>\n",
              "      <td>8780-IHCRN</td>\n",
              "      <td>0</td>\n",
              "      <td>0</td>\n",
              "      <td>1</td>\n",
              "      <td>1</td>\n",
              "      <td>63</td>\n",
              "      <td>1</td>\n",
              "      <td>1</td>\n",
              "      <td>0</td>\n",
              "      <td>0</td>\n",
              "      <td>0</td>\n",
              "      <td>0</td>\n",
              "      <td>0</td>\n",
              "      <td>0</td>\n",
              "      <td>0</td>\n",
              "      <td>2</td>\n",
              "      <td>0</td>\n",
              "      <td>3</td>\n",
              "      <td>24.65</td>\n",
              "    </tr>\n",
              "    <tr>\n",
              "      <th>6934</th>\n",
              "      <td>6257-DTAYD</td>\n",
              "      <td>0</td>\n",
              "      <td>0</td>\n",
              "      <td>1</td>\n",
              "      <td>0</td>\n",
              "      <td>71</td>\n",
              "      <td>1</td>\n",
              "      <td>1</td>\n",
              "      <td>2</td>\n",
              "      <td>0</td>\n",
              "      <td>1</td>\n",
              "      <td>0</td>\n",
              "      <td>1</td>\n",
              "      <td>1</td>\n",
              "      <td>1</td>\n",
              "      <td>2</td>\n",
              "      <td>1</td>\n",
              "      <td>3</td>\n",
              "      <td>104.15</td>\n",
              "    </tr>\n",
              "    <tr>\n",
              "      <th>3506</th>\n",
              "      <td>2916-BQZLN</td>\n",
              "      <td>0</td>\n",
              "      <td>0</td>\n",
              "      <td>0</td>\n",
              "      <td>0</td>\n",
              "      <td>19</td>\n",
              "      <td>1</td>\n",
              "      <td>1</td>\n",
              "      <td>2</td>\n",
              "      <td>1</td>\n",
              "      <td>0</td>\n",
              "      <td>1</td>\n",
              "      <td>0</td>\n",
              "      <td>0</td>\n",
              "      <td>0</td>\n",
              "      <td>0</td>\n",
              "      <td>1</td>\n",
              "      <td>0</td>\n",
              "      <td>84.75</td>\n",
              "    </tr>\n",
              "  </tbody>\n",
              "</table>\n",
              "</div>"
            ],
            "text/plain": [
              "      customerID  gender  ...  PaymentMethod  MonthlyCharges\n",
              "2823  4884-LEVMQ       0  ...              2           20.45\n",
              "3908  8261-GWDBQ       1  ...              2          116.05\n",
              "1539  5071-FBJFS       1  ...              0           50.30\n",
              "2792  9163-GHAYE       1  ...              0           48.85\n",
              "896   8975-SKGRX       0  ...              2          116.10\n",
              "6986  3976-BWUCK       1  ...              3           94.10\n",
              "5203  0734-OXWBT       0  ...              1           70.70\n",
              "1270  8780-IHCRN       0  ...              3           24.65\n",
              "6934  6257-DTAYD       0  ...              3          104.15\n",
              "3506  2916-BQZLN       0  ...              0           84.75\n",
              "\n",
              "[10 rows x 19 columns]"
            ]
          },
          "metadata": {
            "tags": []
          },
          "execution_count": 92
        }
      ]
    },
    {
      "cell_type": "code",
      "metadata": {
        "colab": {
          "base_uri": "https://localhost:8080/"
        },
        "id": "IDgv2yIura58",
        "outputId": "a84f73ac-4575-4824-e50b-e8bb0b94393a"
      },
      "source": [
        "len(X_train.columns)"
      ],
      "execution_count": 93,
      "outputs": [
        {
          "output_type": "execute_result",
          "data": {
            "text/plain": [
              "19"
            ]
          },
          "metadata": {
            "tags": []
          },
          "execution_count": 93
        }
      ]
    },
    {
      "cell_type": "markdown",
      "metadata": {
        "id": "YUu09eKRrsaL"
      },
      "source": [
        "#4 ACURACY EVALUATION OF THE DATA"
      ]
    },
    {
      "cell_type": "code",
      "metadata": {
        "colab": {
          "base_uri": "https://localhost:8080/"
        },
        "id": "jjIaI7TAuI9u",
        "outputId": "7931b546-599e-44f7-b2e0-e13a3e012182"
      },
      "source": [
        "!pip install xgboost\n",
        "# XGBoost converts weak learners to strong learners through an ensemble method. \n",
        "# Unlike bagging, in the classical boosting the subset creation is not random and depends upon the performance of the previous models."
      ],
      "execution_count": 99,
      "outputs": [
        {
          "output_type": "stream",
          "text": [
            "Requirement already satisfied: xgboost in /usr/local/lib/python3.7/dist-packages (0.90)\n",
            "Requirement already satisfied: numpy in /usr/local/lib/python3.7/dist-packages (from xgboost) (1.19.5)\n",
            "Requirement already satisfied: scipy in /usr/local/lib/python3.7/dist-packages (from xgboost) (1.4.1)\n"
          ],
          "name": "stdout"
        }
      ]
    },
    {
      "cell_type": "code",
      "metadata": {
        "id": "12m9jPkv0Xef"
      },
      "source": [
        "def XgbClass(learning_rate =0.1,n_estimators=1000,max_depth=5,min_child_weight=1,\n",
        "             gamma=0,subsample=0.8,colsample_bytree=0.8):\n",
        "    xgb1 = XGBClassifier(learning_rate=learning_rate,\n",
        "                         n_estimators=n_estimators,\n",
        "                         max_depth=max_depth,\n",
        "                         min_child_weight=min_child_weight,\n",
        "                         gamma=gamma,\n",
        "                         subsample=subsample,\n",
        "                         colsample_bytree=colsample_bytree)\n",
        "    return xgb1"
      ],
      "execution_count": 100,
      "outputs": []
    },
    {
      "cell_type": "code",
      "metadata": {
        "id": "JQ986ot60gZW"
      },
      "source": [
        "# These are the initial parameters before tuning.\n",
        "def drop_features(l):\n",
        "    return [x for x in train.columns if x not in l]"
      ],
      "execution_count": 101,
      "outputs": []
    },
    {
      "cell_type": "markdown",
      "metadata": {
        "id": "evdHS5Mw0oiC"
      },
      "source": [
        "First Prediction: Use of initial parameters and without feature engineering\n"
      ]
    },
    {
      "cell_type": "code",
      "metadata": {
        "id": "JDlZeZOa0tDL"
      },
      "source": [
        "from xgboost import XGBClassifier\n",
        "import xgboost as xgb"
      ],
      "execution_count": 103,
      "outputs": []
    },
    {
      "cell_type": "code",
      "metadata": {
        "colab": {
          "base_uri": "https://localhost:8080/"
        },
        "id": "S0qZUvTf0vyz",
        "outputId": "7b1de832-0d25-4929-a4cb-724d2bedda38"
      },
      "source": [
        "predictors = drop_features([target, IDcol])\n",
        "xgb1=XgbClass()\n",
        "first_model=modelfit(xgb1, train, predictors)\n",
        "xgb1.fit(train[predictors],train['Churn'])"
      ],
      "execution_count": 104,
      "outputs": [
        {
          "output_type": "stream",
          "text": [
            "{'base_score': 0.5, 'booster': 'gbtree', 'colsample_bylevel': 1, 'colsample_bynode': 1, 'colsample_bytree': 0.8, 'gamma': 0, 'learning_rate': 0.1, 'max_delta_step': 0, 'max_depth': 5, 'min_child_weight': 1, 'missing': None, 'n_estimators': 37, 'nthread': 1, 'objective': 'binary:logistic', 'reg_alpha': 0, 'reg_lambda': 1, 'scale_pos_weight': 1, 'seed': 0, 'subsample': 0.8, 'verbosity': 1}\n"
          ],
          "name": "stdout"
        },
        {
          "output_type": "execute_result",
          "data": {
            "text/plain": [
              "XGBClassifier(base_score=0.5, booster='gbtree', colsample_bylevel=1,\n",
              "              colsample_bynode=1, colsample_bytree=0.8, gamma=0,\n",
              "              learning_rate=0.1, max_delta_step=0, max_depth=5,\n",
              "              min_child_weight=1, missing=None, n_estimators=37, n_jobs=1,\n",
              "              nthread=None, objective='binary:logistic', random_state=0,\n",
              "              reg_alpha=0, reg_lambda=1, scale_pos_weight=1, seed=None,\n",
              "              silent=None, subsample=0.8, verbosity=1)"
            ]
          },
          "metadata": {
            "tags": []
          },
          "execution_count": 104
        }
      ]
    },
    {
      "cell_type": "code",
      "metadata": {
        "colab": {
          "base_uri": "https://localhost:8080/"
        },
        "id": "6R2xtCYC00pF",
        "outputId": "8999eff4-fa11-4ecb-fd63-c80956989685"
      },
      "source": [
        "get_accuracy(first_model,predictors)"
      ],
      "execution_count": 107,
      "outputs": [
        {
          "output_type": "stream",
          "text": [
            "\n",
            "Model Report\n",
            "Accuracy : 0.8213\n",
            "AUC Score (Train): 0.870779\n"
          ],
          "name": "stdout"
        }
      ]
    },
    {
      "cell_type": "markdown",
      "metadata": {
        "id": "t5OIsj4l90Yg"
      },
      "source": [
        "our AUC has a score of 0.87 this shows that our model is good"
      ]
    },
    {
      "cell_type": "code",
      "metadata": {
        "colab": {
          "base_uri": "https://localhost:8080/",
          "height": 676
        },
        "id": "JTQKJhS204xm",
        "outputId": "9feeff97-d92a-46ce-fe74-052508eb1365"
      },
      "source": [
        "get_feature_importances(first_model)"
      ],
      "execution_count": 108,
      "outputs": [
        {
          "output_type": "stream",
          "text": [
            "MonthlyCharges      330\n",
            "tenure              188\n",
            "PaymentMethod        56\n",
            "Contract             51\n",
            "InternetService      42\n",
            "SeniorCitizen        35\n",
            "PaperlessBilling     33\n",
            "OnlineBackup         31\n",
            "OnlineSecurity       30\n",
            "TechSupport          27\n",
            "Partner              26\n",
            "StreamingTV          25\n",
            "gender               24\n",
            "StreamingMovies      21\n",
            "MultipleLines        20\n",
            "PhoneService         18\n",
            "Dependents           17\n",
            "DeviceProtection     12\n",
            "dtype: int64\n"
          ],
          "name": "stdout"
        },
        {
          "output_type": "display_data",
          "data": {
            "image/png": "[encoded data removed]",
            "text/plain": [
              "<Figure size 432x288 with 1 Axes>"
            ]
          },
          "metadata": {
            "tags": [],
            "needs_background": "light"
          }
        }
      ]
    },
    {
      "cell_type": "markdown",
      "metadata": {
        "id": "nnEOHvOA-nH5"
      },
      "source": [
        "Second Prediction: Using intial Parameters and removing features of least importances"
      ]
    },
    {
      "cell_type": "markdown",
      "metadata": {
        "id": "wj2d_I0O-thZ"
      },
      "source": [
        "# Model after removing the features of least importance."
      ]
    },
    {
      "cell_type": "code",
      "metadata": {
        "id": "ny1pSCu_-eQH"
      },
      "source": [
        "dropl=['DeviceProtection','Dependents','Dependents','gender','StreamingMovies','MultipleLines']"
      ],
      "execution_count": 109,
      "outputs": []
    },
    {
      "cell_type": "code",
      "metadata": {
        "id": "FgWIa0Oj-yyF"
      },
      "source": [
        "dropl_first=dropl+[target,IDcol]"
      ],
      "execution_count": 110,
      "outputs": []
    },
    {
      "cell_type": "code",
      "metadata": {
        "colab": {
          "base_uri": "https://localhost:8080/"
        },
        "id": "wP2OPFhX-2v-",
        "outputId": "a03f6ed9-f4e0-461d-d947-0a5939bf58b6"
      },
      "source": [
        "# These are the initial parameters before tuning.\n",
        "predictors = drop_features(dropl_first)\n",
        "xgb1 = XgbClass()\n",
        "second_model=modelfit(xgb1, train, predictors)"
      ],
      "execution_count": 111,
      "outputs": [
        {
          "output_type": "stream",
          "text": [
            "{'base_score': 0.5, 'booster': 'gbtree', 'colsample_bylevel': 1, 'colsample_bynode': 1, 'colsample_bytree': 0.8, 'gamma': 0, 'learning_rate': 0.1, 'max_delta_step': 0, 'max_depth': 5, 'min_child_weight': 1, 'missing': None, 'n_estimators': 40, 'nthread': 1, 'objective': 'binary:logistic', 'reg_alpha': 0, 'reg_lambda': 1, 'scale_pos_weight': 1, 'seed': 0, 'subsample': 0.8, 'verbosity': 1}\n"
          ],
          "name": "stdout"
        }
      ]
    },
    {
      "cell_type": "code",
      "metadata": {
        "colab": {
          "base_uri": "https://localhost:8080/"
        },
        "id": "xEf5ozCA-6Q3",
        "outputId": "671fbc66-a2cf-471f-c635-9941cf674faf"
      },
      "source": [
        "get_accuracy(second_model,predictors)"
      ],
      "execution_count": 112,
      "outputs": [
        {
          "output_type": "stream",
          "text": [
            "\n",
            "Model Report\n",
            "Accuracy : 0.8213\n",
            "AUC Score (Train): 0.869170\n"
          ],
          "name": "stdout"
        }
      ]
    },
    {
      "cell_type": "markdown",
      "metadata": {
        "id": "GwTVlF7W_Byc"
      },
      "source": [
        "the score remains the same we must predict for the last time to see if our model if accurate enough to classify"
      ]
    },
    {
      "cell_type": "code",
      "metadata": {
        "colab": {
          "base_uri": "https://localhost:8080/",
          "height": 586
        },
        "id": "NM9U9W10-_OP",
        "outputId": "891d2af1-6869-4309-f918-e9e6da55c0d7"
      },
      "source": [
        "get_feature_importances(second_model)"
      ],
      "execution_count": 113,
      "outputs": [
        {
          "output_type": "stream",
          "text": [
            "MonthlyCharges      360\n",
            "tenure              232\n",
            "PaymentMethod        65\n",
            "Contract             50\n",
            "InternetService      45\n",
            "OnlineBackup         37\n",
            "PaperlessBilling     37\n",
            "StreamingTV          35\n",
            "SeniorCitizen        35\n",
            "OnlineSecurity       35\n",
            "TechSupport          30\n",
            "PhoneService         30\n",
            "Partner              24\n",
            "dtype: int64\n"
          ],
          "name": "stdout"
        },
        {
          "output_type": "display_data",
          "data": {
            "image/png": "[encoded data removed]",
            "text/plain": [
              "<Figure size 432x288 with 1 Axes>"
            ]
          },
          "metadata": {
            "tags": [],
            "needs_background": "light"
          }
        }
      ]
    },
    {
      "cell_type": "markdown",
      "metadata": {
        "id": "3_NpUaQS_qVC"
      },
      "source": [
        "Third Prediction: Again removing the features of least importance\n"
      ]
    },
    {
      "cell_type": "code",
      "metadata": {
        "id": "z36J6Sd-_kx2"
      },
      "source": [
        "dropl1=dropl+['Partner','PhoneService','OnlineBackup','TechSupport','OnlineSecurity']\n",
        "dropl_second=dropl_first+['Partner','PhoneService','OnlineBackup','TechSupport','OnlineSecurity']"
      ],
      "execution_count": 114,
      "outputs": []
    },
    {
      "cell_type": "code",
      "metadata": {
        "id": "5tjZo1wr_vMZ"
      },
      "source": [
        "predictors=drop_features(dropl_second)"
      ],
      "execution_count": 115,
      "outputs": []
    },
    {
      "cell_type": "code",
      "metadata": {
        "colab": {
          "base_uri": "https://localhost:8080/"
        },
        "id": "RC-ZaUuo_yQb",
        "outputId": "0222a392-f69a-41ec-d910-1ec71d462b04"
      },
      "source": [
        "xgb1=XgbClass()\n",
        "third_model=modelfit(xgb1,train,predictors)"
      ],
      "execution_count": 116,
      "outputs": [
        {
          "output_type": "stream",
          "text": [
            "{'base_score': 0.5, 'booster': 'gbtree', 'colsample_bylevel': 1, 'colsample_bynode': 1, 'colsample_bytree': 0.8, 'gamma': 0, 'learning_rate': 0.1, 'max_delta_step': 0, 'max_depth': 5, 'min_child_weight': 1, 'missing': None, 'n_estimators': 38, 'nthread': 1, 'objective': 'binary:logistic', 'reg_alpha': 0, 'reg_lambda': 1, 'scale_pos_weight': 1, 'seed': 0, 'subsample': 0.8, 'verbosity': 1}\n"
          ],
          "name": "stdout"
        }
      ]
    },
    {
      "cell_type": "code",
      "metadata": {
        "colab": {
          "base_uri": "https://localhost:8080/"
        },
        "id": "sSs73L8s_3Hj",
        "outputId": "41686474-d0e1-492d-d504-40979fc804dc"
      },
      "source": [
        "get_accuracy(third_model,predictors)"
      ],
      "execution_count": 117,
      "outputs": [
        {
          "output_type": "stream",
          "text": [
            "\n",
            "Model Report\n",
            "Accuracy : 0.8099\n",
            "AUC Score (Train): 0.864332\n"
          ],
          "name": "stdout"
        }
      ]
    },
    {
      "cell_type": "code",
      "metadata": {
        "id": "PasFv2Ho_72p"
      },
      "source": [
        "# Tune max_depth and min_child_weight."
      ],
      "execution_count": null,
      "outputs": []
    },
    {
      "cell_type": "code",
      "metadata": {
        "colab": {
          "base_uri": "https://localhost:8080/"
        },
        "id": "KgnAsY7uBEIc",
        "outputId": "a0e7a417-4257-4a81-d991-f168ea2d912d"
      },
      "source": [
        "predictors = drop_features(dropl_first)\n",
        "predictors"
      ],
      "execution_count": 118,
      "outputs": [
        {
          "output_type": "execute_result",
          "data": {
            "text/plain": [
              "['SeniorCitizen',\n",
              " 'Partner',\n",
              " 'tenure',\n",
              " 'PhoneService',\n",
              " 'InternetService',\n",
              " 'OnlineSecurity',\n",
              " 'OnlineBackup',\n",
              " 'TechSupport',\n",
              " 'StreamingTV',\n",
              " 'Contract',\n",
              " 'PaperlessBilling',\n",
              " 'PaymentMethod',\n",
              " 'MonthlyCharges']"
            ]
          },
          "metadata": {
            "tags": []
          },
          "execution_count": 118
        }
      ]
    },
    {
      "cell_type": "code",
      "metadata": {
        "colab": {
          "base_uri": "https://localhost:8080/"
        },
        "id": "V7OEjE9MBHQh",
        "outputId": "0246649c-3387-4f48-ec6a-24707f1e75eb"
      },
      "source": [
        "param_test1 = {\n",
        " 'max_depth':list(range(5,10,1)),\n",
        " 'min_child_weight':list(range(5,10,1))\n",
        "}\n",
        "gsearch1 = GridSearchCV(estimator=XgbClass(n_estimators=48),param_grid =param_test1,\n",
        "                        scoring='roc_auc',n_jobs=-1,iid=False, cv=5, verbose=3)\n",
        "gsearch1.fit(train[predictors],train[target])\n",
        "gsearch1.cv_results_, gsearch1.best_params_, gsearch1.best_score_"
      ],
      "execution_count": 119,
      "outputs": [
        {
          "output_type": "stream",
          "text": [
            "Fitting 5 folds for each of 25 candidates, totalling 125 fits\n"
          ],
          "name": "stdout"
        },
        {
          "output_type": "stream",
          "text": [
            "[Parallel(n_jobs=-1)]: Using backend LokyBackend with 2 concurrent workers.\n",
            "[Parallel(n_jobs=-1)]: Done  28 tasks      | elapsed:    5.4s\n",
            "[Parallel(n_jobs=-1)]: Done 125 out of 125 | elapsed:   23.3s finished\n",
            "/usr/local/lib/python3.7/dist-packages/sklearn/model_selection/_search.py:823: FutureWarning: The parameter 'iid' is deprecated in 0.22 and will be removed in 0.24.\n",
            "  \"removed in 0.24.\", FutureWarning\n"
          ],
          "name": "stderr"
        },
        {
          "output_type": "execute_result",
          "data": {
            "text/plain": [
              "({'mean_fit_time': array([0.26410842, 0.26208167, 0.25526834, 0.25657258, 0.25788884,\n",
              "         0.30191689, 0.30354962, 0.29791255, 0.29617548, 0.29707203,\n",
              "         0.35022049, 0.3435461 , 0.34039836, 0.33574376, 0.3287231 ,\n",
              "         0.38328905, 0.37785254, 0.37844982, 0.36418419, 0.35946898,\n",
              "         0.41211572, 0.40416107, 0.3963326 , 0.40213575, 0.36866202]),\n",
              "  'mean_score_time': array([0.00874104, 0.00901842, 0.01040559, 0.00760822, 0.00755024,\n",
              "         0.00806837, 0.00839858, 0.00808525, 0.0080687 , 0.00795264,\n",
              "         0.00855908, 0.00870218, 0.00891957, 0.00852246, 0.00856881,\n",
              "         0.00931368, 0.00935297, 0.01032624, 0.00929375, 0.00871334,\n",
              "         0.00913224, 0.00945225, 0.00926738, 0.00906   , 0.00842772]),\n",
              "  'mean_test_score': array([0.84387038, 0.84395235, 0.84404108, 0.84410559, 0.84513053,\n",
              "         0.84298373, 0.84229549, 0.84230745, 0.84224743, 0.84370115,\n",
              "         0.84021957, 0.83934082, 0.84108795, 0.8421241 , 0.8419951 ,\n",
              "         0.83888252, 0.83870978, 0.8402687 , 0.84102704, 0.8414516 ,\n",
              "         0.8376805 , 0.83822997, 0.83942552, 0.84003683, 0.84064091]),\n",
              "  'param_max_depth': masked_array(data=[5, 5, 5, 5, 5, 6, 6, 6, 6, 6, 7, 7, 7, 7, 7, 8, 8, 8,\n",
              "                     8, 8, 9, 9, 9, 9, 9],\n",
              "               mask=[False, False, False, False, False, False, False, False,\n",
              "                     False, False, False, False, False, False, False, False,\n",
              "                     False, False, False, False, False, False, False, False,\n",
              "                     False],\n",
              "         fill_value='?',\n",
              "              dtype=object),\n",
              "  'param_min_child_weight': masked_array(data=[5, 6, 7, 8, 9, 5, 6, 7, 8, 9, 5, 6, 7, 8, 9, 5, 6, 7,\n",
              "                     8, 9, 5, 6, 7, 8, 9],\n",
              "               mask=[False, False, False, False, False, False, False, False,\n",
              "                     False, False, False, False, False, False, False, False,\n",
              "                     False, False, False, False, False, False, False, False,\n",
              "                     False],\n",
              "         fill_value='?',\n",
              "              dtype=object),\n",
              "  'params': [{'max_depth': 5, 'min_child_weight': 5},\n",
              "   {'max_depth': 5, 'min_child_weight': 6},\n",
              "   {'max_depth': 5, 'min_child_weight': 7},\n",
              "   {'max_depth': 5, 'min_child_weight': 8},\n",
              "   {'max_depth': 5, 'min_child_weight': 9},\n",
              "   {'max_depth': 6, 'min_child_weight': 5},\n",
              "   {'max_depth': 6, 'min_child_weight': 6},\n",
              "   {'max_depth': 6, 'min_child_weight': 7},\n",
              "   {'max_depth': 6, 'min_child_weight': 8},\n",
              "   {'max_depth': 6, 'min_child_weight': 9},\n",
              "   {'max_depth': 7, 'min_child_weight': 5},\n",
              "   {'max_depth': 7, 'min_child_weight': 6},\n",
              "   {'max_depth': 7, 'min_child_weight': 7},\n",
              "   {'max_depth': 7, 'min_child_weight': 8},\n",
              "   {'max_depth': 7, 'min_child_weight': 9},\n",
              "   {'max_depth': 8, 'min_child_weight': 5},\n",
              "   {'max_depth': 8, 'min_child_weight': 6},\n",
              "   {'max_depth': 8, 'min_child_weight': 7},\n",
              "   {'max_depth': 8, 'min_child_weight': 8},\n",
              "   {'max_depth': 8, 'min_child_weight': 9},\n",
              "   {'max_depth': 9, 'min_child_weight': 5},\n",
              "   {'max_depth': 9, 'min_child_weight': 6},\n",
              "   {'max_depth': 9, 'min_child_weight': 7},\n",
              "   {'max_depth': 9, 'min_child_weight': 8},\n",
              "   {'max_depth': 9, 'min_child_weight': 9}],\n",
              "  'rank_test_score': array([ 5,  4,  3,  2,  1,  7,  9,  8, 10,  6, 18, 21, 14, 11, 12, 22, 23,\n",
              "         17, 15, 13, 25, 24, 20, 19, 16], dtype=int32),\n",
              "  'split0_test_score': array([0.85734266, 0.85896111, 0.85798368, 0.85877834, 0.85837307,\n",
              "         0.85492424, 0.85611888, 0.85598909, 0.85668574, 0.8567652 ,\n",
              "         0.85205022, 0.85286342, 0.8556103 , 0.85581426, 0.85568976,\n",
              "         0.84956294, 0.8509377 , 0.85393622, 0.8524449 , 0.85504344,\n",
              "         0.85062513, 0.85156548, 0.85228332, 0.85309388, 0.85527124]),\n",
              "  'split1_test_score': array([0.86266688, 0.86277283, 0.86213446, 0.86253973, 0.86667196,\n",
              "         0.86234901, 0.86008159, 0.85986438, 0.85930547, 0.86277283,\n",
              "         0.85834393, 0.85715724, 0.85689235, 0.86115438, 0.8607491 ,\n",
              "         0.85735325, 0.85844459, 0.85852935, 0.85920746, 0.85778767,\n",
              "         0.85570036, 0.85486862, 0.85475207, 0.85653475, 0.85753338]),\n",
              "  'split2_test_score': array([0.82271138, 0.82109822, 0.82152469, 0.82040951, 0.82038832,\n",
              "         0.82248093, 0.81890231, 0.81884933, 0.82025058, 0.82186374,\n",
              "         0.81808381, 0.81649979, 0.8183381 , 0.81779773, 0.81822155,\n",
              "         0.81721763, 0.81488928, 0.81596472, 0.81889966, 0.81812354,\n",
              "         0.8140284 , 0.81792753, 0.81871159, 0.81693155, 0.81704281]),\n",
              "  'split3_test_score': array([0.8593764 , 0.8587898 , 0.86101731, 0.85983882, 0.86072929,\n",
              "         0.8568873 , 0.85668384, 0.85733915, 0.85524112, 0.8570617 ,\n",
              "         0.85400713, 0.85284978, 0.85551856, 0.85462809, 0.8558515 ,\n",
              "         0.85216805, 0.85172942, 0.8547972 , 0.85615537, 0.85644075,\n",
              "         0.85136214, 0.85037389, 0.85292905, 0.85270445, 0.85345224]),\n",
              "  'split4_test_score': array([0.81725459, 0.81813978, 0.81754525, 0.81896155, 0.81949003,\n",
              "         0.81827718, 0.81969084, 0.81949531, 0.81975426, 0.82004228,\n",
              "         0.81861276, 0.81733386, 0.81908046, 0.82122605, 0.8194636 ,\n",
              "         0.81811071, 0.81754789, 0.818116  , 0.8184278 , 0.8198626 ,\n",
              "         0.81668648, 0.81641432, 0.81845158, 0.82091954, 0.81990488]),\n",
              "  'std_fit_time': array([0.00992991, 0.00679899, 0.00390699, 0.00440398, 0.00507706,\n",
              "         0.00597333, 0.00696136, 0.00423116, 0.00516349, 0.00474947,\n",
              "         0.0128799 , 0.00581631, 0.00382374, 0.00575564, 0.00452825,\n",
              "         0.00656865, 0.00626296, 0.01710299, 0.00618778, 0.00822825,\n",
              "         0.0073712 , 0.00968261, 0.00815447, 0.02356068, 0.02478234]),\n",
              "  'std_score_time': array([1.30430626e-03, 2.41828370e-03, 3.59377042e-03, 5.59922163e-05,\n",
              "         1.14541109e-04, 3.46426051e-05, 3.30191929e-04, 7.99398688e-05,\n",
              "         7.54403403e-05, 7.22434890e-05, 1.06344052e-04, 1.89503966e-04,\n",
              "         4.07364822e-04, 9.83915549e-05, 3.30786250e-04, 7.90037319e-04,\n",
              "         2.99129394e-04, 2.51857828e-03, 6.04646672e-04, 4.34300498e-05,\n",
              "         6.32807285e-05, 5.80599411e-04, 4.63022861e-04, 1.12897539e-04,\n",
              "         9.54599892e-04]),\n",
              "  'std_test_score': array([0.01965376, 0.01994103, 0.02009465, 0.01998183, 0.02074768,\n",
              "         0.01866375, 0.01882906, 0.01893178, 0.01821033, 0.01870571,\n",
              "         0.01797442, 0.01837823, 0.01828007, 0.01862483, 0.0189953 ,\n",
              "         0.0175076 , 0.01856738, 0.01904077, 0.01838537, 0.01836607,\n",
              "         0.01832832, 0.01726422, 0.01703845, 0.01733471, 0.01816803])},\n",
              " {'max_depth': 5, 'min_child_weight': 9},\n",
              " 0.8451305340307611)"
            ]
          },
          "metadata": {
            "tags": []
          },
          "execution_count": 119
        }
      ]
    },
    {
      "cell_type": "code",
      "metadata": {
        "id": "j3B4TP-jBLZd"
      },
      "source": [
        "# If the best parameters are edge values then we do \n",
        "# GridSearchCV by taking one less and one value more than the best parameters."
      ],
      "execution_count": 120,
      "outputs": []
    },
    {
      "cell_type": "code",
      "metadata": {
        "colab": {
          "base_uri": "https://localhost:8080/"
        },
        "id": "RXgQhKBsBUq1",
        "outputId": "e2a2962d-97a3-4c88-d25f-c86e4a509df6"
      },
      "source": [
        "param_test2 = {\n",
        " 'max_depth':[6,7,8,9],\n",
        " 'min_child_weight':[2,3,4,5]\n",
        "}\n",
        "gsearch2 = GridSearchCV(estimator=XgbClass(n_estimators=48),param_grid =param_test2,scoring='roc_auc',n_jobs=-1,iid=False, cv=5)\n",
        "gsearch2.fit(train[predictors],train[target])\n",
        "gsearch2.cv_results_, gsearch2.best_params_, gsearch2.best_score_"
      ],
      "execution_count": 121,
      "outputs": [
        {
          "output_type": "stream",
          "text": [
            "/usr/local/lib/python3.7/dist-packages/sklearn/model_selection/_search.py:823: FutureWarning: The parameter 'iid' is deprecated in 0.22 and will be removed in 0.24.\n",
            "  \"removed in 0.24.\", FutureWarning\n"
          ],
          "name": "stderr"
        },
        {
          "output_type": "execute_result",
          "data": {
            "text/plain": [
              "({'mean_fit_time': array([0.31151896, 0.31238809, 0.31021428, 0.30437026, 0.35795479,\n",
              "         0.35517511, 0.35776405, 0.34621825, 0.40524025, 0.39627275,\n",
              "         0.38686867, 0.3827302 , 0.44333677, 0.4328661 , 0.42368603,\n",
              "         0.40697203]),\n",
              "  'mean_score_time': array([0.01085892, 0.01096048, 0.00891838, 0.00850801, 0.01124802,\n",
              "         0.00895605, 0.00899448, 0.00952148, 0.01167321, 0.00961862,\n",
              "         0.01014566, 0.01268625, 0.01082449, 0.0128706 , 0.00990849,\n",
              "         0.00879483]),\n",
              "  'mean_test_score': array([0.83951631, 0.84120099, 0.84185271, 0.84298373, 0.83745312,\n",
              "         0.8385824 , 0.83950819, 0.84021957, 0.83465064, 0.83582427,\n",
              "         0.83763901, 0.83888252, 0.83404724, 0.83563122, 0.83645468,\n",
              "         0.8376805 ]),\n",
              "  'param_max_depth': masked_array(data=[6, 6, 6, 6, 7, 7, 7, 7, 8, 8, 8, 8, 9, 9, 9, 9],\n",
              "               mask=[False, False, False, False, False, False, False, False,\n",
              "                     False, False, False, False, False, False, False, False],\n",
              "         fill_value='?',\n",
              "              dtype=object),\n",
              "  'param_min_child_weight': masked_array(data=[2, 3, 4, 5, 2, 3, 4, 5, 2, 3, 4, 5, 2, 3, 4, 5],\n",
              "               mask=[False, False, False, False, False, False, False, False,\n",
              "                     False, False, False, False, False, False, False, False],\n",
              "         fill_value='?',\n",
              "              dtype=object),\n",
              "  'params': [{'max_depth': 6, 'min_child_weight': 2},\n",
              "   {'max_depth': 6, 'min_child_weight': 3},\n",
              "   {'max_depth': 6, 'min_child_weight': 4},\n",
              "   {'max_depth': 6, 'min_child_weight': 5},\n",
              "   {'max_depth': 7, 'min_child_weight': 2},\n",
              "   {'max_depth': 7, 'min_child_weight': 3},\n",
              "   {'max_depth': 7, 'min_child_weight': 4},\n",
              "   {'max_depth': 7, 'min_child_weight': 5},\n",
              "   {'max_depth': 8, 'min_child_weight': 2},\n",
              "   {'max_depth': 8, 'min_child_weight': 3},\n",
              "   {'max_depth': 8, 'min_child_weight': 4},\n",
              "   {'max_depth': 8, 'min_child_weight': 5},\n",
              "   {'max_depth': 9, 'min_child_weight': 2},\n",
              "   {'max_depth': 9, 'min_child_weight': 3},\n",
              "   {'max_depth': 9, 'min_child_weight': 4},\n",
              "   {'max_depth': 9, 'min_child_weight': 5}],\n",
              "  'rank_test_score': array([ 5,  3,  2,  1, 11,  8,  6,  4, 15, 13, 10,  7, 16, 14, 12,  9],\n",
              "        dtype=int32),\n",
              "  'split0_test_score': array([0.8535071 , 0.85786184, 0.85784594, 0.85492424, 0.84943844,\n",
              "         0.85196016, 0.85269125, 0.85205022, 0.84550223, 0.85003708,\n",
              "         0.84963975, 0.84956294, 0.84427845, 0.84960797, 0.84407184,\n",
              "         0.85062513]),\n",
              "  'split1_test_score': array([0.85401038, 0.85786448, 0.85823797, 0.86234901, 0.85504344,\n",
              "         0.85566857, 0.85688705, 0.85834393, 0.85332168, 0.85180653,\n",
              "         0.85337466, 0.85735325, 0.8500106 , 0.85532952, 0.8553666 ,\n",
              "         0.85570036]),\n",
              "  'split2_test_score': array([0.82015787, 0.81822685, 0.82024529, 0.82248093, 0.81665872,\n",
              "         0.8155462 , 0.82092075, 0.81808381, 0.81264569, 0.81586936,\n",
              "         0.81678851, 0.81721763, 0.81419527, 0.81353571, 0.81492636,\n",
              "         0.8140284 ]),\n",
              "  'split3_test_score': array([0.8575796 , 0.85646981, 0.85754789, 0.8568873 , 0.85360021,\n",
              "         0.8559202 , 0.85125116, 0.85400713, 0.8489893 , 0.84982957,\n",
              "         0.85174528, 0.85216805, 0.84925089, 0.84685163, 0.85248514,\n",
              "         0.85136214]),\n",
              "  'split4_test_score': array([0.8123266 , 0.81558198, 0.81538644, 0.81827718, 0.81252477,\n",
              "         0.81381688, 0.81579073, 0.81861276, 0.81279429, 0.81157881,\n",
              "         0.81664685, 0.81811071, 0.81250099, 0.81283129, 0.81542344,\n",
              "         0.81668648]),\n",
              "  'std_fit_time': array([0.00578058, 0.00796645, 0.0043244 , 0.00624404, 0.00781311,\n",
              "         0.0056043 , 0.01290761, 0.00555027, 0.00479616, 0.00589663,\n",
              "         0.00721348, 0.00864208, 0.00570186, 0.00723277, 0.0095934 ,\n",
              "         0.01267542]),\n",
              "  'std_score_time': array([0.00315265, 0.00493268, 0.00099368, 0.0002294 , 0.00510062,\n",
              "         0.00029056, 0.00018164, 0.00048465, 0.00242332, 0.00038176,\n",
              "         0.00136989, 0.00242842, 0.00251538, 0.00282238, 0.00107317,\n",
              "         0.00090798]),\n",
              "  'std_test_score': array([0.01921527, 0.01986221, 0.01968727, 0.01866375, 0.01880226,\n",
              "         0.01957293, 0.01744549, 0.01797442, 0.01807694, 0.0181087 ,\n",
              "         0.01712325, 0.0175076 , 0.01702351, 0.01853278, 0.01776761,\n",
              "         0.01832832])},\n",
              " {'max_depth': 6, 'min_child_weight': 5},\n",
              " 0.8429837343861774)"
            ]
          },
          "metadata": {
            "tags": []
          },
          "execution_count": 121
        }
      ]
    },
    {
      "cell_type": "code",
      "metadata": {
        "colab": {
          "base_uri": "https://localhost:8080/"
        },
        "id": "nJ-vhqMCBYRB",
        "outputId": "3adbbfda-6297-4127-bf02-24c0008ed97a"
      },
      "source": [
        "xgb1 = XgbClass(max_depth=6,min_child_weight=5)\n",
        "model=modelfit(xgb1, train, predictors)"
      ],
      "execution_count": 129,
      "outputs": [
        {
          "output_type": "stream",
          "text": [
            "{'base_score': 0.5, 'booster': 'gbtree', 'colsample_bylevel': 1, 'colsample_bynode': 1, 'colsample_bytree': 0.8, 'gamma': 0, 'learning_rate': 0.1, 'max_delta_step': 0, 'max_depth': 6, 'min_child_weight': 5, 'missing': None, 'n_estimators': 40, 'nthread': 1, 'objective': 'binary:logistic', 'reg_alpha': 0, 'reg_lambda': 1, 'scale_pos_weight': 1, 'seed': 0, 'subsample': 0.8, 'verbosity': 1}\n"
          ],
          "name": "stdout"
        }
      ]
    },
    {
      "cell_type": "code",
      "metadata": {
        "colab": {
          "base_uri": "https://localhost:8080/"
        },
        "id": "52Z9ofz9BlRp",
        "outputId": "8205a687-cc5f-4ced-d7fd-9c5475509bb6"
      },
      "source": [
        "get_accuracy(model,predictors)"
      ],
      "execution_count": 130,
      "outputs": [
        {
          "output_type": "stream",
          "text": [
            "\n",
            "Model Report\n",
            "Accuracy : 0.8355\n",
            "AUC Score (Train): 0.876265\n"
          ],
          "name": "stdout"
        }
      ]
    },
    {
      "cell_type": "code",
      "metadata": {
        "id": "3dte9XKtBp3x"
      },
      "source": [
        "# To tune gamma."
      ],
      "execution_count": 124,
      "outputs": []
    },
    {
      "cell_type": "code",
      "metadata": {
        "colab": {
          "base_uri": "https://localhost:8080/"
        },
        "id": "6pJM5s0IBxjs",
        "outputId": "74741659-e261-4b0d-b193-81da6cd302e9"
      },
      "source": [
        "param_test3 = {\n",
        " 'gamma':[i/10.0 for i in range(0,8)]\n",
        "}\n",
        "gsearch3=GridSearchCV(estimator=XgbClass(n_estimators=48,max_depth=7,min_child_weight=5),\n",
        "                      param_grid =param_test3,scoring='roc_auc',n_jobs=-1,iid=False, cv=5)\n",
        "gsearch3.fit(train[predictors],train[target])\n",
        "gsearch3.cv_results_, gsearch3.best_params_, gsearch3.best_score_"
      ],
      "execution_count": 125,
      "outputs": [
        {
          "output_type": "stream",
          "text": [
            "/usr/local/lib/python3.7/dist-packages/sklearn/model_selection/_search.py:823: FutureWarning: The parameter 'iid' is deprecated in 0.22 and will be removed in 0.24.\n",
            "  \"removed in 0.24.\", FutureWarning\n"
          ],
          "name": "stderr"
        },
        {
          "output_type": "execute_result",
          "data": {
            "text/plain": [
              "({'mean_fit_time': array([0.35082102, 0.36061034, 0.35498171, 0.34816809, 0.34749365,\n",
              "         0.34468617, 0.34682245, 0.34092097]),\n",
              "  'mean_score_time': array([0.01040044, 0.0095253 , 0.00879412, 0.00934381, 0.00937304,\n",
              "         0.01116095, 0.00910974, 0.00962448]),\n",
              "  'mean_test_score': array([0.84021957, 0.84079808, 0.84094814, 0.83973531, 0.83901924,\n",
              "         0.8398556 , 0.83964386, 0.84051657]),\n",
              "  'param_gamma': masked_array(data=[0.0, 0.1, 0.2, 0.3, 0.4, 0.5, 0.6, 0.7],\n",
              "               mask=[False, False, False, False, False, False, False, False],\n",
              "         fill_value='?',\n",
              "              dtype=object),\n",
              "  'params': [{'gamma': 0.0},\n",
              "   {'gamma': 0.1},\n",
              "   {'gamma': 0.2},\n",
              "   {'gamma': 0.3},\n",
              "   {'gamma': 0.4},\n",
              "   {'gamma': 0.5},\n",
              "   {'gamma': 0.6},\n",
              "   {'gamma': 0.7}],\n",
              "  'rank_test_score': array([4, 2, 1, 6, 8, 5, 7, 3], dtype=int32),\n",
              "  'split0_test_score': array([0.85205022, 0.85525005, 0.85519178, 0.85402098, 0.85264357,\n",
              "         0.85206082, 0.85342234, 0.85366073]),\n",
              "  'split1_test_score': array([0.85834393, 0.8586565 , 0.85730028, 0.85780356, 0.85510701,\n",
              "         0.85757576, 0.85557321, 0.85839691]),\n",
              "  'split2_test_score': array([0.81808381, 0.81853412, 0.81989563, 0.81627728, 0.81608127,\n",
              "         0.81806792, 0.81691301, 0.81856061]),\n",
              "  'split3_test_score': array([0.85400713, 0.85375347, 0.85462809, 0.85346017, 0.85371912,\n",
              "         0.85333598, 0.85288678, 0.85476021]),\n",
              "  'split4_test_score': array([0.81861276, 0.81779627, 0.81772493, 0.81711455, 0.81754525,\n",
              "         0.81823755, 0.81942397, 0.81720439]),\n",
              "  'std_fit_time': array([0.00545432, 0.01013104, 0.01185137, 0.01134111, 0.00692932,\n",
              "         0.00678283, 0.00717088, 0.00207506]),\n",
              "  'std_score_time': array([0.00162649, 0.0009475 , 0.00020292, 0.00029584, 0.0009325 ,\n",
              "         0.00334333, 0.0003771 , 0.00341154]),\n",
              "  'std_test_score': array([0.01797442, 0.01854935, 0.01811044, 0.01887269, 0.01815383,\n",
              "         0.01781424, 0.01757556, 0.01855197])},\n",
              " {'gamma': 0.2},\n",
              " 0.8409481413924716)"
            ]
          },
          "metadata": {
            "tags": []
          },
          "execution_count": 125
        }
      ]
    },
    {
      "cell_type": "code",
      "metadata": {
        "colab": {
          "base_uri": "https://localhost:8080/"
        },
        "id": "ta8VP1weB7a_",
        "outputId": "2906faa1-0549-4e26-865d-1aa9fb7a01fc"
      },
      "source": [
        "xgb1 = XgbClass(max_depth=7,min_child_weight=5,gamma=0.2)\n",
        "model=modelfit(xgb1, train, predictors)"
      ],
      "execution_count": 131,
      "outputs": [
        {
          "output_type": "stream",
          "text": [
            "{'base_score': 0.5, 'booster': 'gbtree', 'colsample_bylevel': 1, 'colsample_bynode': 1, 'colsample_bytree': 0.8, 'gamma': 0.2, 'learning_rate': 0.1, 'max_delta_step': 0, 'max_depth': 7, 'min_child_weight': 5, 'missing': None, 'n_estimators': 32, 'nthread': 1, 'objective': 'binary:logistic', 'reg_alpha': 0, 'reg_lambda': 1, 'scale_pos_weight': 1, 'seed': 0, 'subsample': 0.8, 'verbosity': 1}\n"
          ],
          "name": "stdout"
        }
      ]
    },
    {
      "cell_type": "code",
      "metadata": {
        "colab": {
          "base_uri": "https://localhost:8080/"
        },
        "id": "ZOMT1Q4qCADd",
        "outputId": "f62d6979-eb0c-49ce-f9b9-b3d5c82035a3"
      },
      "source": [
        "get_accuracy(model,predictors)"
      ],
      "execution_count": 132,
      "outputs": [
        {
          "output_type": "stream",
          "text": [
            "\n",
            "Model Report\n",
            "Accuracy : 0.8468\n",
            "AUC Score (Train): 0.877427\n"
          ],
          "name": "stdout"
        }
      ]
    },
    {
      "cell_type": "code",
      "metadata": {
        "colab": {
          "base_uri": "https://localhost:8080/"
        },
        "id": "YydWjr_NCEg6",
        "outputId": "9d87fb8f-707d-4de8-edfb-0e0ccfe8ab92"
      },
      "source": [
        "param_test4 = {\n",
        " 'subsample':[i/10.0 for i in range(6,10)],\n",
        " 'colsample_bytree':[i/10.0 for i in range(6,10)]\n",
        "}\n",
        "gsearch4=GridSearchCV(estimator=XgbClass(n_estimators=48,max_depth=7,\n",
        "                                         min_child_weight=5,gamma=0.2),\n",
        "                      param_grid =param_test4,scoring='roc_auc',n_jobs=-1,iid=False, cv=5)\n",
        "gsearch4.fit(train[predictors],train[target])\n",
        "gsearch4.cv_results_, gsearch4.best_params_, gsearch4.best_score_"
      ],
      "execution_count": 133,
      "outputs": [
        {
          "output_type": "stream",
          "text": [
            "/usr/local/lib/python3.7/dist-packages/sklearn/model_selection/_search.py:823: FutureWarning: The parameter 'iid' is deprecated in 0.22 and will be removed in 0.24.\n",
            "  \"removed in 0.24.\", FutureWarning\n"
          ],
          "name": "stderr"
        },
        {
          "output_type": "execute_result",
          "data": {
            "text/plain": [
              "({'mean_fit_time': array([0.30702691, 0.2999589 , 0.29474344, 0.28649006, 0.33342314,\n",
              "         0.34540424, 0.3287293 , 0.32240639, 0.35087743, 0.3503058 ,\n",
              "         0.34684515, 0.33713002, 0.36676764, 0.36878023, 0.36106634,\n",
              "         0.3424747 ]),\n",
              "  'mean_score_time': array([0.00911303, 0.00906029, 0.00908346, 0.01026382, 0.00877628,\n",
              "         0.00890112, 0.00865779, 0.00930495, 0.00860991, 0.00888314,\n",
              "         0.00917587, 0.00869722, 0.0086092 , 0.00869451, 0.00912766,\n",
              "         0.00814185]),\n",
              "  'mean_test_score': array([0.84216239, 0.84171961, 0.84022659, 0.84042805, 0.84153772,\n",
              "         0.84184878, 0.84075318, 0.84037679, 0.84160709, 0.84080024,\n",
              "         0.84094814, 0.83939176, 0.84168531, 0.84100167, 0.83956506,\n",
              "         0.83847787]),\n",
              "  'param_colsample_bytree': masked_array(data=[0.6, 0.6, 0.6, 0.6, 0.7, 0.7, 0.7, 0.7, 0.8, 0.8, 0.8,\n",
              "                     0.8, 0.9, 0.9, 0.9, 0.9],\n",
              "               mask=[False, False, False, False, False, False, False, False,\n",
              "                     False, False, False, False, False, False, False, False],\n",
              "         fill_value='?',\n",
              "              dtype=object),\n",
              "  'param_subsample': masked_array(data=[0.6, 0.7, 0.8, 0.9, 0.6, 0.7, 0.8, 0.9, 0.6, 0.7, 0.8,\n",
              "                     0.9, 0.6, 0.7, 0.8, 0.9],\n",
              "               mask=[False, False, False, False, False, False, False, False,\n",
              "                     False, False, False, False, False, False, False, False],\n",
              "         fill_value='?',\n",
              "              dtype=object),\n",
              "  'params': [{'colsample_bytree': 0.6, 'subsample': 0.6},\n",
              "   {'colsample_bytree': 0.6, 'subsample': 0.7},\n",
              "   {'colsample_bytree': 0.6, 'subsample': 0.8},\n",
              "   {'colsample_bytree': 0.6, 'subsample': 0.9},\n",
              "   {'colsample_bytree': 0.7, 'subsample': 0.6},\n",
              "   {'colsample_bytree': 0.7, 'subsample': 0.7},\n",
              "   {'colsample_bytree': 0.7, 'subsample': 0.8},\n",
              "   {'colsample_bytree': 0.7, 'subsample': 0.9},\n",
              "   {'colsample_bytree': 0.8, 'subsample': 0.6},\n",
              "   {'colsample_bytree': 0.8, 'subsample': 0.7},\n",
              "   {'colsample_bytree': 0.8, 'subsample': 0.8},\n",
              "   {'colsample_bytree': 0.8, 'subsample': 0.9},\n",
              "   {'colsample_bytree': 0.9, 'subsample': 0.6},\n",
              "   {'colsample_bytree': 0.9, 'subsample': 0.7},\n",
              "   {'colsample_bytree': 0.9, 'subsample': 0.8},\n",
              "   {'colsample_bytree': 0.9, 'subsample': 0.9}],\n",
              "  'rank_test_score': array([ 1,  3, 13, 11,  6,  2, 10, 12,  5,  9,  8, 15,  4,  7, 14, 16],\n",
              "        dtype=int32),\n",
              "  'split0_test_score': array([0.85363954, 0.855952  , 0.85308063, 0.85255086, 0.85426203,\n",
              "         0.8533773 , 0.85445539, 0.85275482, 0.85284753, 0.85589373,\n",
              "         0.85519178, 0.85146217, 0.85256675, 0.85742212, 0.85301971,\n",
              "         0.84878947]),\n",
              "  'split1_test_score': array([0.86106696, 0.8626086 , 0.8547971 , 0.8558381 , 0.85699301,\n",
              "         0.85634139, 0.85712545, 0.85717843, 0.85891608, 0.85665395,\n",
              "         0.85730028, 0.85361835, 0.8606246 , 0.8551335 , 0.8541958 ,\n",
              "         0.8544395 ]),\n",
              "  'split2_test_score': array([0.8216174 , 0.81900032, 0.81767324, 0.81847319, 0.82287826,\n",
              "         0.82076711, 0.81767853, 0.82016052, 0.82481193, 0.81891026,\n",
              "         0.81989563, 0.81540316, 0.82016847, 0.8179858 , 0.81749311,\n",
              "         0.81477538]),\n",
              "  'split3_test_score': array([0.85478399, 0.85626899, 0.85852028, 0.8587898 , 0.85602061,\n",
              "         0.85801031, 0.85636412, 0.85519091, 0.85436121, 0.85534152,\n",
              "         0.85462809, 0.85802352, 0.85496367, 0.85473907, 0.8558515 ,\n",
              "         0.85506408]),\n",
              "  'split4_test_score': array([0.81970406, 0.81476813, 0.8170617 , 0.81648831, 0.81753468,\n",
              "         0.82074779, 0.81814242, 0.81659929, 0.81709869, 0.81720174,\n",
              "         0.81772493, 0.81845158, 0.82010305, 0.81972784, 0.81726516,\n",
              "         0.81932091]),\n",
              "  'std_fit_time': array([0.00827903, 0.00621206, 0.00777496, 0.00626089, 0.00729688,\n",
              "         0.01521986, 0.00735384, 0.00828498, 0.00548236, 0.00418649,\n",
              "         0.00546899, 0.00501044, 0.00562497, 0.00923083, 0.00355583,\n",
              "         0.01853083]),\n",
              "  'std_score_time': array([7.55327600e-04, 2.89603137e-04, 4.70018326e-04, 2.51652466e-03,\n",
              "         3.98115184e-04, 1.76524253e-04, 8.45671204e-05, 6.77985953e-04,\n",
              "         8.25748697e-05, 1.61589947e-04, 9.36105580e-04, 1.72182088e-04,\n",
              "         9.41293459e-05, 1.51087010e-04, 1.14362026e-03, 9.01503476e-04]),\n",
              "  'std_test_score': array([0.0177476 , 0.02046042, 0.01874807, 0.01885053, 0.01752056,\n",
              "         0.01728483, 0.01867184, 0.01805013, 0.01715433, 0.01858313,\n",
              "         0.01811044, 0.01848879, 0.01778868, 0.01811277, 0.0181372 ,\n",
              "         0.01769182])},\n",
              " {'colsample_bytree': 0.6, 'subsample': 0.6},\n",
              " 0.8421623893408026)"
            ]
          },
          "metadata": {
            "tags": []
          },
          "execution_count": 133
        }
      ]
    },
    {
      "cell_type": "code",
      "metadata": {
        "colab": {
          "base_uri": "https://localhost:8080/"
        },
        "id": "yUdq1E52CLBr",
        "outputId": "1019e735-d86a-44eb-a61f-04367ed22c11"
      },
      "source": [
        "xgb1 = XgbClass(max_depth=6,min_child_weight=7,gamma=0.2,subsample=0.7,colsample_bytree=0.7)\n",
        "model=modelfit(xgb1, train, predictors)"
      ],
      "execution_count": 138,
      "outputs": [
        {
          "output_type": "stream",
          "text": [
            "{'base_score': 0.5, 'booster': 'gbtree', 'colsample_bylevel': 1, 'colsample_bynode': 1, 'colsample_bytree': 0.7, 'gamma': 0.2, 'learning_rate': 0.1, 'max_delta_step': 0, 'max_depth': 6, 'min_child_weight': 7, 'missing': None, 'n_estimators': 34, 'nthread': 1, 'objective': 'binary:logistic', 'reg_alpha': 0, 'reg_lambda': 1, 'scale_pos_weight': 1, 'seed': 0, 'subsample': 0.7, 'verbosity': 1}\n"
          ],
          "name": "stdout"
        }
      ]
    },
    {
      "cell_type": "code",
      "metadata": {
        "colab": {
          "base_uri": "https://localhost:8080/"
        },
        "id": "C7wKnhreDv1u",
        "outputId": "851a3197-0634-4a43-825b-13a84d78020d"
      },
      "source": [
        "get_accuracy(model,predictors)"
      ],
      "execution_count": 139,
      "outputs": [
        {
          "output_type": "stream",
          "text": [
            "\n",
            "Model Report\n",
            "Accuracy : 0.834\n",
            "AUC Score (Train): 0.865270\n"
          ],
          "name": "stdout"
        }
      ]
    },
    {
      "cell_type": "code",
      "metadata": {
        "id": "jXHNO_LQD0zo"
      },
      "source": [
        "#dropl1=dropl+['Partner','PhoneService','OnlineBackup','TechSupport','OnlineSecurity']\n",
        "# RunTestAndSaveResults(dropl,'final_result.csv',model)\n",
        "#FixMeLater the final_result file is not printing to csv"
      ],
      "execution_count": 140,
      "outputs": []
    },
    {
      "cell_type": "code",
      "metadata": {
        "colab": {
          "base_uri": "https://localhost:8080/"
        },
        "id": "oKBPnc8GEPQu",
        "outputId": "a8dd78ac-3bfb-4eed-8721-88deccef9414"
      },
      "source": [
        "ls -l"
      ],
      "execution_count": 141,
      "outputs": [
        {
          "output_type": "stream",
          "text": [
            "total 8\n",
            "drwx------ 5 root root 4096 Jun 10 10:50 \u001b[0m\u001b[01;34mdrive\u001b[0m/\n",
            "drwxr-xr-x 1 root root 4096 Jun  1 13:40 \u001b[01;34msample_data\u001b[0m/\n"
          ],
          "name": "stdout"
        }
      ]
    },
    {
      "cell_type": "code",
      "metadata": {
        "id": "5DfdPWNFESOg"
      },
      "source": [
        ""
      ],
      "execution_count": null,
      "outputs": []
    }
  ]
}